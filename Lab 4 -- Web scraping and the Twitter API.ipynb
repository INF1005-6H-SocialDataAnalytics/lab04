{
 "cells": [
  {
   "cell_type": "markdown",
   "metadata": {},
   "source": [
    "## Lab 4 -- Web scraping and the Twitter API\n",
    "\n",
    "So far in this course we have dealt with data which has been collected by someone else and has appeared in a neat, nice format. Unfortunately a good deal of data doesn't appear to us in a clean format. we have to wrestle with the data so that it's in a nice format for us to analyze. This is where web scraping and APIs come into play."
   ]
  },
  {
   "cell_type": "markdown",
   "metadata": {},
   "source": [
    "*Web scraping* is the process of accessing unstructured or semi-structured data which is on the web and turning it into data we can use, i.e. a structured dataset.\n",
    "\n",
    "In this course we are going to focus on two types of web scraping: screen scraping and APIs (or Application Programming Interfaces). Screen scraping is a technique for extracting data from the source code of the website. APIs, on the other hand, are a service which is provided by a company or organization with the intent of delivering data to some end user."
   ]
  },
  {
   "cell_type": "markdown",
   "metadata": {},
   "source": [
    "Because bandwidth is expensive and making automated hits to a website may \"[clog up](https://en.wikipedia.org/wiki/Denial-of-service_attack) the [tubes](https://www.youtube.com/watch?v=f99PcP0aFNE)\", we need to have to some rules for accessing sites and APIs. If you're interested in a particular site, check to see if an API is available. For instance, we could collect Twitter data by going to twitter.com and saving the website to a file. Or we could use [Twitter's API](dev.twitter.com) for collecting tweets. Second, try to limit your bandwidth usage. It's helpful to do this by only accessing the site once, then saving the HTML to disk. Lastly, pay attention to rate limits and terms of service. We'll discuss much of this below."
   ]
  },
  {
   "cell_type": "markdown",
   "metadata": {},
   "source": [
    "## Screen scraping\n",
    "\n",
    "The basic language which has underlied the web for the past few decades is HTML, or HyperText Markup Language. Several of you in this course have worked with HTML, so this shouldn't be new to you. Supplementing HTML more recently is CSS, or Cascading Style Sheets. There's also JavaScript, but we will not talk much about that today."
   ]
  },
  {
   "cell_type": "markdown",
   "metadata": {},
   "source": [
    "The first thing about screen scraping we need to know the structure of the web page we want to scrape. All web pages follow a basic structure of *elements*. Elements are *nested* within each other, which means that elements can fit inside of other elements. "
   ]
  },
  {
   "cell_type": "markdown",
   "metadata": {},
   "source": [
    "![](img/page_structure_example.jpg)"
   ]
  },
  {
   "cell_type": "markdown",
   "metadata": {},
   "source": [
    "Above image from [this site](https://alleasytricks.files.wordpress.com/2015/02/page_structure_example.jpg)."
   ]
  },
  {
   "cell_type": "markdown",
   "metadata": {},
   "source": [
    "In the example above, the element at the top (also called the *root* element) is <code>html</code>. Within that, there's a number of other elemnts which contain information which might be helpful for us. Usually, when we are screen scraping for social data, we want to get some text elements. In the image above, those elements with text data are <code>title</code>, <code>h1</code>, and the two <code>p</code> elements. Those are all HTML *tags*. But we can also access elements by CSS attributes. Most importantly, we can access elements by the CSS attributes <code>class</code> and <code>id</code>."
   ]
  },
  {
   "cell_type": "markdown",
   "metadata": {},
   "source": [
    "From here, let's split the kinds of task of screen scraping into two types of tasks depending on our data format: table format and unstructured format."
   ]
  },
  {
   "cell_type": "markdown",
   "metadata": {},
   "source": [
    "### Screen scraping in table format\n",
    "\n",
    "Lots of the data which we want to collect is already in format which looks like a Data Frame. Tables are a common part of the structure of many websites, so there's a set of common methods for collecting them."
   ]
  },
  {
   "cell_type": "markdown",
   "metadata": {},
   "source": [
    "Let's take a look at a website which has many tables: Wikipedia. In particular, let's look at the Wikipedia site for the [List of census metropolitan areas and agglomerations in Canada](https://en.wikipedia.org/wiki/List_of_census_metropolitan_areas_and_agglomerations_in_Canada). The table on this site looks like this."
   ]
  },
  {
   "cell_type": "markdown",
   "metadata": {},
   "source": [
    "![](img/top-100-cities.png)"
   ]
  },
  {
   "cell_type": "markdown",
   "metadata": {},
   "source": [
    "There's a number of columns which would be relevant for statistical analyses, including population rank in 2006 and 2011, population in those years, and the change in population between those years. There's also province and geographic name."
   ]
  },
  {
   "cell_type": "markdown",
   "metadata": {},
   "source": [
    "Once we've identified our table, we need to find a way to collect it. We can do this by identifying which HTML tags and CSS attributes identify this table. To do this, we can use the \"Inspect\" or \"View Source\" feature in our web browsers. On my computer (my Mac, using Google Chrome), I have an \"Inspect\" option. This will probably look different on the lab computers and also depend on the browser you're using."
   ]
  },
  {
   "cell_type": "markdown",
   "metadata": {},
   "source": [
    "![](img/chrome-inspect.png)"
   ]
  },
  {
   "cell_type": "markdown",
   "metadata": {},
   "source": [
    "Once you click \"Inspect\" or \"View Source\", you'll get something that looks like the screenshot below. Tools like the Chrome inspect are nice because they allow you to see the HTML element and then it also visually selects the element on the screen. "
   ]
  },
  {
   "cell_type": "markdown",
   "metadata": {},
   "source": [
    "![](img/inspect-selected.png)"
   ]
  },
  {
   "cell_type": "markdown",
   "metadata": {},
   "source": [
    "It will be useful here to highlight the HTML elements we are looking for in the table, and what CSS attributes we use."
   ]
  },
  {
   "cell_type": "markdown",
   "metadata": {},
   "source": [
    "For any HTML table, there are several necessary parts. The <code>&lt;table&gt;</code> tag declares that there's going to be a table here. The <code>&lt;tr&gt;</code> tag declares that there is going to be a row. The <code>&lt;th&gt;</code> and <code>&lt;td&gt;</code> tags are similar: they both denote that this is a cell of the table. However, the <code>&lt;th&gt;</code> tag is a header cell while <code>&lt;td&gt;</code> is any other cell in the table.\n",
    "\n",
    "    <table>\n",
    "        <tr>\n",
    "            <th>Header1</th><th>Header2</th>\n",
    "        </tr>\n",
    "        <tr>\n",
    "            <td>Data1</td><td>Data2</td>\n",
    "        </tr>\n",
    "        <!-- ... more rows here ... -->\n",
    "    </table>\n",
    "\n",
    "We also note that there's two CSS attributes of importance above: <code>class</code> and <code>id</code>. An HTML element can take on an virtually unlimited number of classes, while an HTML element can only have one ID and it should unique to the webpage."
   ]
  },
  {
   "cell_type": "markdown",
   "metadata": {},
   "source": [
    "In this case, the Wikipedia table here has no <code>id</code>, but it has three classes: <code>wikitable, sortable,</code> and <code>jquery-tablesorter</code>."
   ]
  },
  {
   "cell_type": "markdown",
   "metadata": {},
   "source": [
    "Okay, now that we have gone through the HTML, we need to actually collect the data.\n",
    "\n",
    "First, we need to import a few important modules. <code>urllib</code> is a module which allows us to make a request of a webpage. <code>bs4</code> and the BeautifulSoup object let us navigate the HTML element tree."
   ]
  },
  {
   "cell_type": "code",
   "execution_count": 2,
   "metadata": {
    "collapsed": true
   },
   "outputs": [],
   "source": [
    "import urllib.request\n",
    "from bs4 import BeautifulSoup"
   ]
  },
  {
   "cell_type": "markdown",
   "metadata": {},
   "source": [
    "After importing, we need to request the URL, read all the data from it, then parse it with BeautifulSoup."
   ]
  },
  {
   "cell_type": "code",
   "execution_count": 3,
   "metadata": {
    "collapsed": true
   },
   "outputs": [],
   "source": [
    "## Request the URL\n",
    "url = \"https://en.wikipedia.org/wiki/List_of_census_metropolitan_areas_and_agglomerations_in_Canada\"\n",
    "res = urllib.request.urlopen(url)"
   ]
  },
  {
   "cell_type": "code",
   "execution_count": 4,
   "metadata": {
    "collapsed": true
   },
   "outputs": [],
   "source": [
    "## Read the data into from the url as a string\n",
    "html = res.read()"
   ]
  },
  {
   "cell_type": "code",
   "execution_count": 5,
   "metadata": {
    "collapsed": true
   },
   "outputs": [],
   "source": [
    "## parse with BeautifulSoup\n",
    "bs = BeautifulSoup(html, \"html.parser\")"
   ]
  },
  {
   "cell_type": "markdown",
   "metadata": {},
   "source": [
    "After we get the webpage into BeautifulSoup, we can start accessing HTML elements by HTML tag and by CSS. The two main methods we will use for that are <code>find_all</code> and <code>find</code>. <code>find_all</code> will find all elements which match our criteria and return them as a list, while <code>find</code> will only find the first.\n",
    "\n",
    "Given that there's only one table in this page, we can just get the first table."
   ]
  },
  {
   "cell_type": "code",
   "execution_count": 6,
   "metadata": {
    "collapsed": false
   },
   "outputs": [],
   "source": [
    "tables = bs.find_all('table')\n",
    "table  = tables[0]"
   ]
  },
  {
   "cell_type": "markdown",
   "metadata": {},
   "source": [
    "Alternatively, we could try to find this by class. <code>wikitable</code> was one of the classes, so let's try to use that as an argument to <code>find</code>."
   ]
  },
  {
   "cell_type": "code",
   "execution_count": 7,
   "metadata": {
    "collapsed": false
   },
   "outputs": [],
   "source": [
    "table = bs.find(\"table\", \"wikitable\")"
   ]
  },
  {
   "cell_type": "code",
   "execution_count": 8,
   "metadata": {
    "collapsed": true
   },
   "outputs": [],
   "source": [
    "div_thumb = bs.find_all(\"div\", \"thumb\")"
   ]
  },
  {
   "cell_type": "markdown",
   "metadata": {},
   "source": [
    "That should have given us the same result.\n",
    "\n",
    "Now, we need to get all the rows from the table. We can do this by using <code>find_all</code> with the elements which contain the rows, <code>tr</code>."
   ]
  },
  {
   "cell_type": "code",
   "execution_count": 9,
   "metadata": {
    "collapsed": false
   },
   "outputs": [],
   "source": [
    "rows = table.find_all(\"tr\")"
   ]
  },
  {
   "cell_type": "code",
   "execution_count": 10,
   "metadata": {
    "collapsed": false
   },
   "outputs": [
    {
     "data": {
      "text/plain": [
       "[<tr>\n",
       " <th>Rank<br/>\n",
       " (2016)</th>\n",
       " <th>Rank<br/>\n",
       " (2011)</th>\n",
       " <th>Geographic name</th>\n",
       " <th>Province</th>\n",
       " <th>Type</th>\n",
       " <th>Population<br/>\n",
       " (2016)</th>\n",
       " <th>Population<br/>\n",
       " (2011)</th>\n",
       " <th>Change</th>\n",
       " </tr>, <tr>\n",
       " <td align=\"center\">1</td>\n",
       " <td align=\"center\">1</td>\n",
       " <td><a href=\"/wiki/Greater_Toronto_Area\" title=\"Greater Toronto Area\">Toronto</a> (<a href=\"/wiki/Mississauga\" title=\"Mississauga\">Mississauga</a>, <a href=\"/wiki/Brampton\" title=\"Brampton\">Brampton</a>)</td>\n",
       " <td><a href=\"/wiki/Ontario\" title=\"Ontario\">Ontario</a></td>\n",
       " <td><a href=\"/wiki/Census_geographic_units_of_Canada#Census_metropolitan_areas\" title=\"Census geographic units of Canada\">CMA</a></td>\n",
       " <td align=\"right\" bgcolor=\"#F9F9F9\" rowspan=\"1\">5,928,040</td>\n",
       " <td align=\"right\" bgcolor=\"#F9F9F9\" rowspan=\"1\">5,583,064</td>\n",
       " <td align=\"right\" bgcolor=\"#F9F9F9\" rowspan=\"1\"><span class=\"sortkey\" style=\"display:none\">7000617897269313050♠</span><font style=\"color:green\">+6.18%</font></td>\n",
       " </tr>, <tr>\n",
       " <td align=\"center\">2</td>\n",
       " <td align=\"center\">2</td>\n",
       " <td><a href=\"/wiki/Greater_Montreal\" title=\"Greater Montreal\">Montreal</a> (<a href=\"/wiki/Laval,_Quebec\" title=\"Laval, Quebec\">Laval</a>)</td>\n",
       " <td><a href=\"/wiki/Quebec\" title=\"Quebec\">Quebec</a></td>\n",
       " <td><a href=\"/wiki/Census_geographic_units_of_Canada#Census_metropolitan_areas\" title=\"Census geographic units of Canada\">CMA</a></td>\n",
       " <td align=\"right\" bgcolor=\"#F9F9F9\" rowspan=\"1\">4,098,927</td>\n",
       " <td align=\"right\" bgcolor=\"#F9F9F9\" rowspan=\"1\">3,934,078</td>\n",
       " <td align=\"right\" bgcolor=\"#F9F9F9\" rowspan=\"1\"><span class=\"sortkey\" style=\"display:none\">7000419028295829420♠</span><font style=\"color:green\">+4.19%</font></td>\n",
       " </tr>, <tr>\n",
       " <td align=\"center\">3</td>\n",
       " <td align=\"center\">3</td>\n",
       " <td><a href=\"/wiki/Greater_Vancouver\" title=\"Greater Vancouver\">Vancouver</a> (<a href=\"/wiki/Surrey,_British_Columbia\" title=\"Surrey, British Columbia\">Surrey</a>)</td>\n",
       " <td><a href=\"/wiki/British_Columbia\" title=\"British Columbia\">British Columbia</a></td>\n",
       " <td><a href=\"/wiki/Census_geographic_units_of_Canada#Census_metropolitan_areas\" title=\"Census geographic units of Canada\">CMA</a></td>\n",
       " <td align=\"right\" bgcolor=\"#F9F9F9\" rowspan=\"1\">2,463,431</td>\n",
       " <td align=\"right\" bgcolor=\"#F9F9F9\" rowspan=\"1\">2,313,328</td>\n",
       " <td align=\"right\" bgcolor=\"#F9F9F9\" rowspan=\"1\"><span class=\"sortkey\" style=\"display:none\">7000648861726482370♠</span><font style=\"color:green\">+6.49%</font></td>\n",
       " </tr>, <tr>\n",
       " <td align=\"center\">4</td>\n",
       " <td align=\"center\">5</td>\n",
       " <td><a href=\"/wiki/Calgary_Region\" title=\"Calgary Region\">Calgary</a></td>\n",
       " <td><a href=\"/wiki/Alberta\" title=\"Alberta\">Alberta</a></td>\n",
       " <td><a href=\"/wiki/Census_geographic_units_of_Canada#Census_metropolitan_areas\" title=\"Census geographic units of Canada\">CMA</a></td>\n",
       " <td align=\"right\" bgcolor=\"#F9F9F9\" rowspan=\"1\">1,392,609</td>\n",
       " <td align=\"right\" bgcolor=\"#F9F9F9\" rowspan=\"1\">1,214,839</td>\n",
       " <td align=\"right\" bgcolor=\"#F9F9F9\" rowspan=\"1\"><span class=\"sortkey\" style=\"display:none\">7001146332147716690♠</span><font style=\"color:green\">+14.63%</font></td>\n",
       " </tr>, <tr>\n",
       " <td align=\"center\">5</td>\n",
       " <td align=\"center\">4</td>\n",
       " <td><a href=\"/wiki/National_Capital_Region_(Canada)\" title=\"National Capital Region (Canada)\">Ottawa–Gatineau</a></td>\n",
       " <td><a href=\"/wiki/Ontario\" title=\"Ontario\">Ontario</a>/<a href=\"/wiki/Quebec\" title=\"Quebec\">Quebec</a></td>\n",
       " <td><a href=\"/wiki/Census_geographic_units_of_Canada#Census_metropolitan_areas\" title=\"Census geographic units of Canada\">CMA</a></td>\n",
       " <td align=\"right\" bgcolor=\"#F9F9F9\" rowspan=\"1\">1,323,783</td>\n",
       " <td align=\"right\" bgcolor=\"#F9F9F9\" rowspan=\"1\">1,254,919</td>\n",
       " <td align=\"right\" bgcolor=\"#F9F9F9\" rowspan=\"1\"><span class=\"sortkey\" style=\"display:none\">7000548752548969300♠</span><font style=\"color:green\">+5.49%</font></td>\n",
       " </tr>, <tr>\n",
       " <td align=\"center\">6</td>\n",
       " <td align=\"center\">6</td>\n",
       " <td><a href=\"/wiki/Edmonton_Capital_Region\" title=\"Edmonton Capital Region\">Edmonton</a></td>\n",
       " <td><a href=\"/wiki/Alberta\" title=\"Alberta\">Alberta</a></td>\n",
       " <td><a href=\"/wiki/Census_geographic_units_of_Canada#Census_metropolitan_areas\" title=\"Census geographic units of Canada\">CMA</a></td>\n",
       " <td align=\"right\" bgcolor=\"#F9F9F9\" rowspan=\"1\">1,321,426</td>\n",
       " <td align=\"right\" bgcolor=\"#F9F9F9\" rowspan=\"1\">1,159,869</td>\n",
       " <td align=\"right\" bgcolor=\"#F9F9F9\" rowspan=\"1\"><span class=\"sortkey\" style=\"display:none\">7001139289005913600♠</span><font style=\"color:green\">+13.93%</font></td>\n",
       " </tr>, <tr>\n",
       " <td align=\"center\">7</td>\n",
       " <td align=\"center\">7</td>\n",
       " <td><a href=\"/wiki/Communaut%C3%A9_m%C3%A9tropolitaine_de_Qu%C3%A9bec\" title=\"Communauté métropolitaine de Québec\">Quebec City</a> (<a href=\"/wiki/L%C3%A9vis,_Quebec\" title=\"Lévis, Quebec\">Lévis</a>)</td>\n",
       " <td><a href=\"/wiki/Quebec\" title=\"Quebec\">Quebec</a></td>\n",
       " <td><a href=\"/wiki/Census_geographic_units_of_Canada#Census_metropolitan_areas\" title=\"Census geographic units of Canada\">CMA</a></td>\n",
       " <td align=\"right\" bgcolor=\"#F9F9F9\" rowspan=\"1\">800,296</td>\n",
       " <td align=\"right\" bgcolor=\"#F9F9F9\" rowspan=\"1\">767,310</td>\n",
       " <td align=\"right\" bgcolor=\"#F9F9F9\" rowspan=\"1\"><span class=\"sortkey\" style=\"display:none\">7000429891438922990♠</span><font style=\"color:green\">+4.30%</font></td>\n",
       " </tr>, <tr>\n",
       " <td align=\"center\">8</td>\n",
       " <td align=\"center\">8</td>\n",
       " <td><a href=\"/wiki/Winnipeg_Capital_Region\" title=\"Winnipeg Capital Region\">Winnipeg</a></td>\n",
       " <td><a href=\"/wiki/Manitoba\" title=\"Manitoba\">Manitoba</a></td>\n",
       " <td><a href=\"/wiki/Census_geographic_units_of_Canada#Census_metropolitan_areas\" title=\"Census geographic units of Canada\">CMA</a></td>\n",
       " <td align=\"right\" bgcolor=\"#F9F9F9\" rowspan=\"1\">778,489</td>\n",
       " <td align=\"right\" bgcolor=\"#F9F9F9\" rowspan=\"1\">730,018</td>\n",
       " <td align=\"right\" bgcolor=\"#F9F9F9\" rowspan=\"1\"><span class=\"sortkey\" style=\"display:none\">7000663969929508590♠</span><font style=\"color:green\">+6.64%</font></td>\n",
       " </tr>, <tr>\n",
       " <td align=\"center\">9</td>\n",
       " <td align=\"center\">9</td>\n",
       " <td><a href=\"/wiki/Hamilton,_Ontario\" title=\"Hamilton, Ontario\">Hamilton</a> (<a href=\"/wiki/Burlington,_Ontario\" title=\"Burlington, Ontario\">Burlington</a>)</td>\n",
       " <td><a href=\"/wiki/Ontario\" title=\"Ontario\">Ontario</a></td>\n",
       " <td><a href=\"/wiki/Census_geographic_units_of_Canada#Census_metropolitan_areas\" title=\"Census geographic units of Canada\">CMA</a></td>\n",
       " <td align=\"right\" bgcolor=\"#F9F9F9\" rowspan=\"1\">747,545</td>\n",
       " <td align=\"right\" bgcolor=\"#F9F9F9\" rowspan=\"1\">721,053</td>\n",
       " <td align=\"right\" bgcolor=\"#F9F9F9\" rowspan=\"1\"><span class=\"sortkey\" style=\"display:none\">7000367407111543810♠</span><font style=\"color:green\">+3.67%</font></td>\n",
       " </tr>, <tr>\n",
       " <td align=\"center\">10</td>\n",
       " <td align=\"center\">10</td>\n",
       " <td><a href=\"/wiki/Regional_Municipality_of_Waterloo\" title=\"Regional Municipality of Waterloo\">Kitchener–Cambridge–Waterloo</a></td>\n",
       " <td><a href=\"/wiki/Ontario\" title=\"Ontario\">Ontario</a></td>\n",
       " <td><a href=\"/wiki/Census_geographic_units_of_Canada#Census_metropolitan_areas\" title=\"Census geographic units of Canada\">CMA</a></td>\n",
       " <td align=\"right\" bgcolor=\"#F9F9F9\" rowspan=\"1\">523,894</td>\n",
       " <td align=\"right\" bgcolor=\"#F9F9F9\" rowspan=\"1\">496,383</td>\n",
       " <td align=\"right\" bgcolor=\"#F9F9F9\" rowspan=\"1\"><span class=\"sortkey\" style=\"display:none\">7000554229294717989♠</span><font style=\"color:green\">+5.54%</font></td>\n",
       " </tr>, <tr>\n",
       " <td align=\"center\">11</td>\n",
       " <td align=\"center\">11</td>\n",
       " <td><a href=\"/wiki/London,_Ontario\" title=\"London, Ontario\">London</a></td>\n",
       " <td><a href=\"/wiki/Ontario\" title=\"Ontario\">Ontario</a></td>\n",
       " <td><a href=\"/wiki/Census_geographic_units_of_Canada#Census_metropolitan_areas\" title=\"Census geographic units of Canada\">CMA</a></td>\n",
       " <td align=\"right\" bgcolor=\"#F9F9F9\" rowspan=\"1\">494,069</td>\n",
       " <td align=\"right\" bgcolor=\"#F9F9F9\" rowspan=\"1\">474,786</td>\n",
       " <td align=\"right\" bgcolor=\"#F9F9F9\" rowspan=\"1\"><span class=\"sortkey\" style=\"display:none\">7000406140871887550♠</span><font style=\"color:green\">+4.06%</font></td>\n",
       " </tr>, <tr>\n",
       " <td align=\"center\">12</td>\n",
       " <td align=\"center\">12</td>\n",
       " <td><a href=\"/wiki/St._Catharines\" title=\"St. Catharines\">St. Catharines</a> - <a href=\"/wiki/Regional_Municipality_of_Niagara\" title=\"Regional Municipality of Niagara\">Niagara</a> (<a href=\"/wiki/Niagara_Falls,_Ontario\" title=\"Niagara Falls, Ontario\">Niagara Falls</a>, <a href=\"/wiki/Welland\" title=\"Welland\">Welland</a>)</td>\n",
       " <td><a href=\"/wiki/Ontario\" title=\"Ontario\">Ontario</a></td>\n",
       " <td><a href=\"/wiki/Census_geographic_units_of_Canada#Census_metropolitan_areas\" title=\"Census geographic units of Canada\">CMA</a></td>\n",
       " <td align=\"right\" bgcolor=\"#F9F9F9\" rowspan=\"1\">406,074</td>\n",
       " <td align=\"right\" bgcolor=\"#F9F9F9\" rowspan=\"1\">392,184</td>\n",
       " <td align=\"right\" bgcolor=\"#F9F9F9\" rowspan=\"1\"><span class=\"sortkey\" style=\"display:none\">7000354170491401990♠</span><font style=\"color:green\">+3.54%</font></td>\n",
       " </tr>, <tr>\n",
       " <td align=\"center\">13</td>\n",
       " <td align=\"center\">13</td>\n",
       " <td><a href=\"/wiki/Halifax,_Nova_Scotia\" title=\"Halifax, Nova Scotia\">Halifax</a></td>\n",
       " <td><a href=\"/wiki/Nova_Scotia\" title=\"Nova Scotia\">Nova Scotia</a></td>\n",
       " <td><a href=\"/wiki/Census_geographic_units_of_Canada#Census_metropolitan_areas\" title=\"Census geographic units of Canada\">CMA</a></td>\n",
       " <td align=\"right\" bgcolor=\"#F9F9F9\" rowspan=\"1\">403,390</td>\n",
       " <td align=\"right\" bgcolor=\"#F9F9F9\" rowspan=\"1\">390,328</td>\n",
       " <td align=\"right\" bgcolor=\"#F9F9F9\" rowspan=\"1\"><span class=\"sortkey\" style=\"display:none\">7000334641634727720♠</span><font style=\"color:green\">+3.35%</font></td>\n",
       " </tr>, <tr>\n",
       " <td align=\"center\">14</td>\n",
       " <td align=\"center\">14</td>\n",
       " <td><a href=\"/wiki/Oshawa\" title=\"Oshawa\">Oshawa</a> (<a href=\"/wiki/Whitby,_Ontario\" title=\"Whitby, Ontario\">Whitby</a>, <a href=\"/wiki/Clarington\" title=\"Clarington\">Clarington</a>)</td>\n",
       " <td><a href=\"/wiki/Ontario\" title=\"Ontario\">Ontario</a></td>\n",
       " <td><a href=\"/wiki/Census_geographic_units_of_Canada#Census_metropolitan_areas\" title=\"Census geographic units of Canada\">CMA</a></td>\n",
       " <td align=\"right\" bgcolor=\"#F9F9F9\" rowspan=\"1\">379,848</td>\n",
       " <td align=\"right\" bgcolor=\"#F9F9F9\" rowspan=\"1\">356,177</td>\n",
       " <td align=\"right\" bgcolor=\"#F9F9F9\" rowspan=\"1\"><span class=\"sortkey\" style=\"display:none\">7000664585304497480♠</span><font style=\"color:green\">+6.65%</font></td>\n",
       " </tr>, <tr>\n",
       " <td align=\"center\">15</td>\n",
       " <td align=\"center\">15</td>\n",
       " <td><a href=\"/wiki/Greater_Victoria\" title=\"Greater Victoria\">Victoria</a> (<a href=\"/wiki/Saanich,_British_Columbia\" title=\"Saanich, British Columbia\">Saanich</a>)</td>\n",
       " <td><a href=\"/wiki/British_Columbia\" title=\"British Columbia\">British Columbia</a></td>\n",
       " <td><a href=\"/wiki/Census_geographic_units_of_Canada#Census_metropolitan_areas\" title=\"Census geographic units of Canada\">CMA</a></td>\n",
       " <td align=\"right\" bgcolor=\"#F9F9F9\" rowspan=\"1\">367,770</td>\n",
       " <td align=\"right\" bgcolor=\"#F9F9F9\" rowspan=\"1\">344,580</td>\n",
       " <td align=\"right\" bgcolor=\"#F9F9F9\" rowspan=\"1\"><span class=\"sortkey\" style=\"display:none\">7000672993209124150♠</span><font style=\"color:green\">+6.73%</font></td>\n",
       " </tr>, <tr>\n",
       " <td align=\"center\">16</td>\n",
       " <td align=\"center\">16</td>\n",
       " <td><a href=\"/wiki/Windsor,_Ontario\" title=\"Windsor, Ontario\">Windsor</a> (<a href=\"/wiki/Lakeshore,_Ontario\" title=\"Lakeshore, Ontario\">Lakeshore</a>)</td>\n",
       " <td><a href=\"/wiki/Ontario\" title=\"Ontario\">Ontario</a></td>\n",
       " <td><a href=\"/wiki/Census_geographic_units_of_Canada#Census_metropolitan_areas\" title=\"Census geographic units of Canada\">CMA</a></td>\n",
       " <td align=\"right\" bgcolor=\"#F9F9F9\" rowspan=\"1\">329,144</td>\n",
       " <td align=\"right\" bgcolor=\"#F9F9F9\" rowspan=\"1\">319,246</td>\n",
       " <td align=\"right\" bgcolor=\"#F9F9F9\" rowspan=\"1\"><span class=\"sortkey\" style=\"display:none\">7000310043038910430♠</span><font style=\"color:green\">+3.10%</font></td>\n",
       " </tr>, <tr>\n",
       " <td align=\"center\">17</td>\n",
       " <td align=\"center\">17</td>\n",
       " <td><a href=\"/wiki/Saskatoon_Metropolitan_Area\" title=\"Saskatoon Metropolitan Area\">Saskatoon</a></td>\n",
       " <td><a href=\"/wiki/Saskatchewan\" title=\"Saskatchewan\">Saskatchewan</a></td>\n",
       " <td><a href=\"/wiki/Census_geographic_units_of_Canada#Census_metropolitan_areas\" title=\"Census geographic units of Canada\">CMA</a></td>\n",
       " <td align=\"right\" bgcolor=\"#F9F9F9\" rowspan=\"1\">295,095</td>\n",
       " <td align=\"right\" bgcolor=\"#F9F9F9\" rowspan=\"1\">262,215</td>\n",
       " <td align=\"right\" bgcolor=\"#F9F9F9\" rowspan=\"1\"><span class=\"sortkey\" style=\"display:none\">7001125393284137060♠</span><font style=\"color:green\">+12.54%</font></td>\n",
       " </tr>, <tr>\n",
       " <td align=\"center\">18</td>\n",
       " <td align=\"center\">18</td>\n",
       " <td><a href=\"/wiki/Regina,_Saskatchewan\" title=\"Regina, Saskatchewan\">Regina</a></td>\n",
       " <td><a href=\"/wiki/Saskatchewan\" title=\"Saskatchewan\">Saskatchewan</a></td>\n",
       " <td><a href=\"/wiki/Census_geographic_units_of_Canada#Census_metropolitan_areas\" title=\"Census geographic units of Canada\">CMA</a></td>\n",
       " <td align=\"right\" bgcolor=\"#F9F9F9\" rowspan=\"1\">236,481</td>\n",
       " <td align=\"right\" bgcolor=\"#F9F9F9\" rowspan=\"1\">211,519</td>\n",
       " <td align=\"right\" bgcolor=\"#F9F9F9\" rowspan=\"1\"><span class=\"sortkey\" style=\"display:none\">7001118013039017770♠</span><font style=\"color:green\">+11.80%</font></td>\n",
       " </tr>, <tr>\n",
       " <td align=\"center\">19</td>\n",
       " <td align=\"center\">19</td>\n",
       " <td><a href=\"/wiki/Sherbrooke\" title=\"Sherbrooke\">Sherbrooke</a> (<a href=\"/wiki/Magog,_Quebec\" title=\"Magog, Quebec\">Magog</a>)</td>\n",
       " <td><a href=\"/wiki/Quebec\" title=\"Quebec\">Quebec</a></td>\n",
       " <td><a href=\"/wiki/Census_geographic_units_of_Canada#Census_metropolitan_areas\" title=\"Census geographic units of Canada\">CMA</a></td>\n",
       " <td align=\"right\" bgcolor=\"#F9F9F9\" rowspan=\"1\">212,105</td>\n",
       " <td align=\"right\" bgcolor=\"#F9F9F9\" rowspan=\"1\">202,261</td>\n",
       " <td align=\"right\" bgcolor=\"#F9F9F9\" rowspan=\"1\"><span class=\"sortkey\" style=\"display:none\">7000486697880461380♠</span><font style=\"color:green\">+4.87%</font></td>\n",
       " </tr>, <tr>\n",
       " <td align=\"center\">20</td>\n",
       " <td align=\"center\">20</td>\n",
       " <td><a href=\"/wiki/St._John%27s,_Newfoundland_and_Labrador\" title=\"St. John's, Newfoundland and Labrador\">St. John's</a> (<a href=\"/wiki/Conception_Bay_South\" title=\"Conception Bay South\">Conception Bay South</a>, <a href=\"/wiki/Mount_Pearl\" title=\"Mount Pearl\">Mount Pearl</a>, <a href=\"/wiki/Paradise,_Newfoundland_and_Labrador\" title=\"Paradise, Newfoundland and Labrador\">Paradise</a>)</td>\n",
       " <td><a href=\"/wiki/Newfoundland_and_Labrador\" title=\"Newfoundland and Labrador\">Newfoundland and Labrador</a></td>\n",
       " <td><a href=\"/wiki/Census_geographic_units_of_Canada#Census_metropolitan_areas\" title=\"Census geographic units of Canada\">CMA</a></td>\n",
       " <td align=\"right\" bgcolor=\"#F9F9F9\" rowspan=\"1\">205,955</td>\n",
       " <td align=\"right\" bgcolor=\"#F9F9F9\" rowspan=\"1\">196,954</td>\n",
       " <td align=\"right\" bgcolor=\"#F9F9F9\" rowspan=\"1\"><span class=\"sortkey\" style=\"display:none\">7000457010266356610♠</span><font style=\"color:green\">+4.57%</font></td>\n",
       " </tr>, <tr>\n",
       " <td align=\"center\">21</td>\n",
       " <td align=\"center\">21</td>\n",
       " <td><a href=\"/wiki/Barrie\" title=\"Barrie\">Barrie</a> (<a href=\"/wiki/Innisfil\" title=\"Innisfil\">Innisfil</a>)</td>\n",
       " <td><a href=\"/wiki/Ontario\" title=\"Ontario\">Ontario</a></td>\n",
       " <td><a href=\"/wiki/Census_geographic_units_of_Canada#Census_metropolitan_areas\" title=\"Census geographic units of Canada\">CMA</a></td>\n",
       " <td align=\"right\" bgcolor=\"#F9F9F9\" rowspan=\"1\">197,059</td>\n",
       " <td align=\"right\" bgcolor=\"#F9F9F9\" rowspan=\"1\">187,013</td>\n",
       " <td align=\"right\" bgcolor=\"#F9F9F9\" rowspan=\"1\"><span class=\"sortkey\" style=\"display:none\">7000537181907140150♠</span><font style=\"color:green\">+5.37%</font></td>\n",
       " </tr>, <tr>\n",
       " <td align=\"center\">22</td>\n",
       " <td align=\"center\">22</td>\n",
       " <td><a href=\"/wiki/Kelowna\" title=\"Kelowna\">Kelowna</a> (<a href=\"/wiki/West_Kelowna\" title=\"West Kelowna\">West Kelowna</a>)</td>\n",
       " <td><a href=\"/wiki/British_Columbia\" title=\"British Columbia\">British Columbia</a></td>\n",
       " <td><a href=\"/wiki/Census_geographic_units_of_Canada#Census_metropolitan_areas\" title=\"Census geographic units of Canada\">CMA</a></td>\n",
       " <td align=\"right\" bgcolor=\"#F9F9F9\" rowspan=\"1\">194,882</td>\n",
       " <td align=\"right\" bgcolor=\"#F9F9F9\" rowspan=\"1\">179,839</td>\n",
       " <td align=\"right\" bgcolor=\"#F9F9F9\" rowspan=\"1\"><span class=\"sortkey\" style=\"display:none\">7000836470398523120♠</span><font style=\"color:green\">+8.36%</font></td>\n",
       " </tr>, <tr>\n",
       " <td align=\"center\">23</td>\n",
       " <td align=\"center\">23</td>\n",
       " <td><a href=\"/wiki/Abbotsford,_British_Columbia\" title=\"Abbotsford, British Columbia\">Abbotsford</a> - <a href=\"/wiki/Mission,_British_Columbia\" title=\"Mission, British Columbia\">Mission</a></td>\n",
       " <td><a href=\"/wiki/British_Columbia\" title=\"British Columbia\">British Columbia</a></td>\n",
       " <td><a href=\"/wiki/Census_geographic_units_of_Canada#Census_metropolitan_areas\" title=\"Census geographic units of Canada\">CMA</a></td>\n",
       " <td align=\"right\" bgcolor=\"#F9F9F9\" rowspan=\"1\">180,518</td>\n",
       " <td align=\"right\" bgcolor=\"#F9F9F9\" rowspan=\"1\">170,191</td>\n",
       " <td align=\"right\" bgcolor=\"#F9F9F9\" rowspan=\"1\"><span class=\"sortkey\" style=\"display:none\">7000606788843123310♠</span><font style=\"color:green\">+6.07%</font></td>\n",
       " </tr>, <tr>\n",
       " <td align=\"center\">24</td>\n",
       " <td align=\"center\">24</td>\n",
       " <td><a href=\"/wiki/Greater_Sudbury\" title=\"Greater Sudbury\">Greater Sudbury</a></td>\n",
       " <td><a href=\"/wiki/Ontario\" title=\"Ontario\">Ontario</a></td>\n",
       " <td><a href=\"/wiki/Census_geographic_units_of_Canada#Census_metropolitan_areas\" title=\"Census geographic units of Canada\">CMA</a></td>\n",
       " <td align=\"right\" bgcolor=\"#F9F9F9\" rowspan=\"1\">164,689</td>\n",
       " <td align=\"right\" bgcolor=\"#F9F9F9\" rowspan=\"1\">163,067</td>\n",
       " <td align=\"right\" bgcolor=\"#F9F9F9\" rowspan=\"1\"><span class=\"sortkey\" style=\"display:none\">6999994683167041770♠</span><font style=\"color:green\">+0.99%</font></td>\n",
       " </tr>, <tr>\n",
       " <td align=\"center\">25</td>\n",
       " <td align=\"center\">25</td>\n",
       " <td><a href=\"/wiki/Kingston,_Ontario\" title=\"Kingston, Ontario\">Kingston</a> (<a class=\"mw-redirect\" href=\"/wiki/South_Frontenac\" title=\"South Frontenac\">South Frontenac</a>, <a href=\"/wiki/Loyalist,_Ontario\" title=\"Loyalist, Ontario\">Loyalist</a>)</td>\n",
       " <td><a href=\"/wiki/Ontario\" title=\"Ontario\">Ontario</a></td>\n",
       " <td><a href=\"/wiki/Census_geographic_units_of_Canada#Census_metropolitan_areas\" title=\"Census geographic units of Canada\">CMA</a></td>\n",
       " <td align=\"right\" bgcolor=\"#F9F9F9\" rowspan=\"1\">161,175</td>\n",
       " <td align=\"right\" bgcolor=\"#F9F9F9\" rowspan=\"1\">159,561</td>\n",
       " <td align=\"right\" bgcolor=\"#F9F9F9\" rowspan=\"1\"><span class=\"sortkey\" style=\"display:none\">7000101152537274149♠</span><font style=\"color:green\">+1.01%</font></td>\n",
       " </tr>, <tr>\n",
       " <td align=\"center\">26</td>\n",
       " <td align=\"center\">26</td>\n",
       " <td><a href=\"/wiki/Saguenay,_Quebec\" title=\"Saguenay, Quebec\">Saguenay</a></td>\n",
       " <td><a href=\"/wiki/Quebec\" title=\"Quebec\">Quebec</a></td>\n",
       " <td><a href=\"/wiki/Census_geographic_units_of_Canada#Census_metropolitan_areas\" title=\"Census geographic units of Canada\">CMA</a></td>\n",
       " <td align=\"right\" bgcolor=\"#F9F9F9\" rowspan=\"1\">160,980</td>\n",
       " <td align=\"right\" bgcolor=\"#F9F9F9\" rowspan=\"1\">158,658</td>\n",
       " <td align=\"right\" bgcolor=\"#F9F9F9\" rowspan=\"1\"><span class=\"sortkey\" style=\"display:none\">7000146352531860980♠</span><font style=\"color:green\">+1.46%</font></td>\n",
       " </tr>, <tr>\n",
       " <td align=\"center\">27</td>\n",
       " <td align=\"center\">27</td>\n",
       " <td><a href=\"/wiki/Trois-Rivi%C3%A8res\" title=\"Trois-Rivières\">Trois-Rivières</a></td>\n",
       " <td><a href=\"/wiki/Quebec\" title=\"Quebec\">Quebec</a></td>\n",
       " <td><a href=\"/wiki/Census_geographic_units_of_Canada#Census_metropolitan_areas\" title=\"Census geographic units of Canada\">CMA</a></td>\n",
       " <td align=\"right\" bgcolor=\"#F9F9F9\" rowspan=\"1\">156,042</td>\n",
       " <td align=\"right\" bgcolor=\"#F9F9F9\" rowspan=\"1\">151,773</td>\n",
       " <td align=\"right\" bgcolor=\"#F9F9F9\" rowspan=\"1\"><span class=\"sortkey\" style=\"display:none\">7000281275325650810♠</span><font style=\"color:green\">+2.81%</font></td>\n",
       " </tr>, <tr>\n",
       " <td align=\"center\">28</td>\n",
       " <td align=\"center\">28</td>\n",
       " <td><a href=\"/wiki/Guelph\" title=\"Guelph\">Guelph</a></td>\n",
       " <td><a href=\"/wiki/Ontario\" title=\"Ontario\">Ontario</a></td>\n",
       " <td><a href=\"/wiki/Census_geographic_units_of_Canada#Census_metropolitan_areas\" title=\"Census geographic units of Canada\">CMA</a></td>\n",
       " <td align=\"right\" bgcolor=\"#F9F9F9\" rowspan=\"1\">151,984</td>\n",
       " <td align=\"right\" bgcolor=\"#F9F9F9\" rowspan=\"1\">141,097</td>\n",
       " <td align=\"right\" bgcolor=\"#F9F9F9\" rowspan=\"1\"><span class=\"sortkey\" style=\"display:none\">7000771596844723840♠</span><font style=\"color:green\">+7.72%</font></td>\n",
       " </tr>, <tr>\n",
       " <td align=\"center\">29</td>\n",
       " <td align=\"center\">29</td>\n",
       " <td><a href=\"/wiki/Moncton\" title=\"Moncton\">Moncton</a> (<a href=\"/wiki/Dieppe,_New_Brunswick\" title=\"Dieppe, New Brunswick\">Dieppe</a>, <a href=\"/wiki/Riverview,_New_Brunswick\" title=\"Riverview, New Brunswick\">Riverview</a>)</td>\n",
       " <td><a href=\"/wiki/New_Brunswick\" title=\"New Brunswick\">New Brunswick</a></td>\n",
       " <td><a href=\"/wiki/Census_geographic_units_of_Canada#Census_metropolitan_areas\" title=\"Census geographic units of Canada\">CMA</a></td>\n",
       " <td align=\"right\" bgcolor=\"#F9F9F9\" rowspan=\"1\">144,810</td>\n",
       " <td align=\"right\" bgcolor=\"#F9F9F9\" rowspan=\"1\">139,287</td>\n",
       " <td align=\"right\" bgcolor=\"#F9F9F9\" rowspan=\"1\"><span class=\"sortkey\" style=\"display:none\">7000396519416743850♠</span><font style=\"color:green\">+3.97%</font></td>\n",
       " </tr>, <tr>\n",
       " <td align=\"center\">30</td>\n",
       " <td align=\"center\">30</td>\n",
       " <td><a href=\"/wiki/Brantford\" title=\"Brantford\">Brantford</a> (<a href=\"/wiki/County_of_Brant\" title=\"County of Brant\">Brant</a>)</td>\n",
       " <td><a href=\"/wiki/Ontario\" title=\"Ontario\">Ontario</a></td>\n",
       " <td><a href=\"/wiki/Census_geographic_units_of_Canada#Census_metropolitan_areas\" title=\"Census geographic units of Canada\">CMA</a></td>\n",
       " <td align=\"right\" bgcolor=\"#F9F9F9\" rowspan=\"1\">134,203</td>\n",
       " <td align=\"right\" bgcolor=\"#F9F9F9\" rowspan=\"1\">135,501</td>\n",
       " <td align=\"right\" bgcolor=\"#F9F9F9\" rowspan=\"1\"><span class=\"sortkey\" style=\"display:none\">3000042073490232540♠</span><font style=\"color:red\">−0.96%</font></td>\n",
       " </tr>, <tr>\n",
       " <td align=\"center\">31</td>\n",
       " <td align=\"center\">31</td>\n",
       " <td><a href=\"/wiki/Saint_John,_New_Brunswick\" title=\"Saint John, New Brunswick\">Saint John</a> (<a href=\"/wiki/Quispamsis\" title=\"Quispamsis\">Quispamsis</a>)</td>\n",
       " <td><a href=\"/wiki/New_Brunswick\" title=\"New Brunswick\">New Brunswick</a></td>\n",
       " <td><a href=\"/wiki/Census_geographic_units_of_Canada#Census_metropolitan_areas\" title=\"Census geographic units of Canada\">CMA</a></td>\n",
       " <td align=\"right\" bgcolor=\"#F9F9F9\" rowspan=\"1\">126,202</td>\n",
       " <td align=\"right\" bgcolor=\"#F9F9F9\" rowspan=\"1\">129,057</td>\n",
       " <td align=\"right\" bgcolor=\"#F9F9F9\" rowspan=\"1\"><span class=\"sortkey\" style=\"display:none\">2999778779918950540♠</span><font style=\"color:red\">−2.21%</font></td>\n",
       " </tr>, <tr>\n",
       " <td align=\"center\">32</td>\n",
       " <td align=\"center\">33</td>\n",
       " <td><a href=\"/wiki/Peterborough,_Ontario\" title=\"Peterborough, Ontario\">Peterborough</a> (<a href=\"/wiki/Selwyn,_Ontario\" title=\"Selwyn, Ontario\">Selwyn</a>)</td>\n",
       " <td><a href=\"/wiki/Ontario\" title=\"Ontario\">Ontario</a></td>\n",
       " <td><a href=\"/wiki/Census_geographic_units_of_Canada#Census_metropolitan_areas\" title=\"Census geographic units of Canada\">CMA</a></td>\n",
       " <td align=\"right\" bgcolor=\"#F9F9F9\" rowspan=\"1\">121,721</td>\n",
       " <td align=\"right\" bgcolor=\"#F9F9F9\" rowspan=\"1\">118,975</td>\n",
       " <td align=\"right\" bgcolor=\"#F9F9F9\" rowspan=\"1\"><span class=\"sortkey\" style=\"display:none\">7000230804790922459♠</span><font style=\"color:green\">+2.31%</font></td>\n",
       " </tr>, <tr>\n",
       " <td align=\"center\">33</td>\n",
       " <td align=\"center\">32</td>\n",
       " <td><a href=\"/wiki/Thunder_Bay\" title=\"Thunder Bay\">Thunder Bay</a></td>\n",
       " <td><a href=\"/wiki/Ontario\" title=\"Ontario\">Ontario</a></td>\n",
       " <td><a href=\"/wiki/Census_geographic_units_of_Canada#Census_metropolitan_areas\" title=\"Census geographic units of Canada\">CMA</a></td>\n",
       " <td align=\"right\" bgcolor=\"#F9F9F9\" rowspan=\"1\">121,621</td>\n",
       " <td align=\"right\" bgcolor=\"#F9F9F9\" rowspan=\"1\">121,596</td>\n",
       " <td align=\"right\" bgcolor=\"#F9F9F9\" rowspan=\"1\"><span class=\"sortkey\" style=\"display:none\">6998205598868383779♠</span><font style=\"color:green\">+0.02%</font></td>\n",
       " </tr>, <tr>\n",
       " <td align=\"center\">34</td>\n",
       " <td align=\"center\">34</td>\n",
       " <td><a href=\"/wiki/Lethbridge\" title=\"Lethbridge\">Lethbridge</a></td>\n",
       " <td><a href=\"/wiki/Alberta\" title=\"Alberta\">Alberta</a></td>\n",
       " <td><a href=\"/wiki/Census_geographic_units_of_Canada#Census_metropolitan_areas\" title=\"Census geographic units of Canada\">CMA</a></td>\n",
       " <td align=\"right\" bgcolor=\"#F9F9F9\" rowspan=\"1\">117,394</td>\n",
       " <td align=\"right\" bgcolor=\"#F9F9F9\" rowspan=\"1\">105,999</td>\n",
       " <td align=\"right\" bgcolor=\"#F9F9F9\" rowspan=\"1\"><span class=\"sortkey\" style=\"display:none\">7001107501014160510♠</span><font style=\"color:green\">+10.75%</font></td>\n",
       " </tr>, <tr>\n",
       " <td align=\"center\">35</td>\n",
       " <td align=\"center\">38</td>\n",
       " <td><a href=\"/wiki/Nanaimo\" title=\"Nanaimo\">Nanaimo</a></td>\n",
       " <td><a href=\"/wiki/British_Columbia\" title=\"British Columbia\">British Columbia</a></td>\n",
       " <td><a href=\"/wiki/Census_geographic_units_of_Canada#Census_agglomerations\" title=\"Census geographic units of Canada\">CA</a></td>\n",
       " <td align=\"right\" bgcolor=\"#F9F9F9\" rowspan=\"1\">104,936</td>\n",
       " <td align=\"right\" bgcolor=\"#F9F9F9\" rowspan=\"1\">98,021</td>\n",
       " <td align=\"right\" bgcolor=\"#F9F9F9\" rowspan=\"1\"><span class=\"sortkey\" style=\"display:none\">7000705461074667670♠</span><font style=\"color:green\">+7.05%</font></td>\n",
       " </tr>, <tr>\n",
       " <td align=\"center\">36</td>\n",
       " <td align=\"center\">37</td>\n",
       " <td><a href=\"/wiki/Kamloops\" title=\"Kamloops\">Kamloops</a></td>\n",
       " <td><a href=\"/wiki/British_Columbia\" title=\"British Columbia\">British Columbia</a></td>\n",
       " <td><a href=\"/wiki/Census_geographic_units_of_Canada#Census_agglomerations\" title=\"Census geographic units of Canada\">CA</a></td>\n",
       " <td align=\"right\" bgcolor=\"#F9F9F9\" rowspan=\"1\">103,811</td>\n",
       " <td align=\"right\" bgcolor=\"#F9F9F9\" rowspan=\"1\">98,754</td>\n",
       " <td align=\"right\" bgcolor=\"#F9F9F9\" rowspan=\"1\"><span class=\"sortkey\" style=\"display:none\">7000512080523320570♠</span><font style=\"color:green\">+5.12%</font></td>\n",
       " </tr>, <tr>\n",
       " <td align=\"center\">37</td>\n",
       " <td align=\"center\">40</td>\n",
       " <td><a href=\"/wiki/Belleville,_Ontario\" title=\"Belleville, Ontario\">Belleville</a> (<a href=\"/wiki/Quinte_West\" title=\"Quinte West\">Quinte West</a>)</td>\n",
       " <td><a href=\"/wiki/Ontario\" title=\"Ontario\">Ontario</a></td>\n",
       " <td><a href=\"/wiki/Census_geographic_units_of_Canada#Census_metropolitan_areas\" title=\"Census geographic units of Canada\">CMA</a></td>\n",
       " <td align=\"right\" bgcolor=\"#F9F9F9\" rowspan=\"1\">103,472</td>\n",
       " <td align=\"right\" bgcolor=\"#F9F9F9\" rowspan=\"1\">101,668</td>\n",
       " <td align=\"right\" bgcolor=\"#F9F9F9\" rowspan=\"1\"><span class=\"sortkey\" style=\"display:none\">7000177440295864970♠</span><font style=\"color:green\">+1.77%</font></td>\n",
       " </tr>, <tr>\n",
       " <td align=\"center\">38</td>\n",
       " <td align=\"center\">35</td>\n",
       " <td><a href=\"/wiki/Chatham-Kent\" title=\"Chatham-Kent\">Chatham-Kent</a></td>\n",
       " <td><a href=\"/wiki/Ontario\" title=\"Ontario\">Ontario</a></td>\n",
       " <td><a href=\"/wiki/Census_geographic_units_of_Canada#Census_agglomerations\" title=\"Census geographic units of Canada\">CA</a></td>\n",
       " <td align=\"right\" bgcolor=\"#F9F9F9\" rowspan=\"1\">102,042</td>\n",
       " <td align=\"right\" bgcolor=\"#F9F9F9\" rowspan=\"1\">104,075</td>\n",
       " <td align=\"right\" bgcolor=\"#F9F9F9\" rowspan=\"1\"><span class=\"sortkey\" style=\"display:none\">2999804660100888780♠</span><font style=\"color:red\">−1.95%</font></td>\n",
       " </tr>, <tr>\n",
       " <td align=\"center\">39</td>\n",
       " <td align=\"center\">39</td>\n",
       " <td><a href=\"/wiki/Fredericton\" title=\"Fredericton\">Fredericton</a></td>\n",
       " <td><a href=\"/wiki/New_Brunswick\" title=\"New Brunswick\">New Brunswick</a></td>\n",
       " <td><a href=\"/wiki/Census_geographic_units_of_Canada#Census_agglomerations\" title=\"Census geographic units of Canada\">CA</a></td>\n",
       " <td align=\"right\" bgcolor=\"#F9F9F9\" rowspan=\"1\">101,760</td>\n",
       " <td align=\"right\" bgcolor=\"#F9F9F9\" rowspan=\"1\">98,320</td>\n",
       " <td align=\"right\" bgcolor=\"#F9F9F9\" rowspan=\"1\"><span class=\"sortkey\" style=\"display:none\">7000349877949552480♠</span><font style=\"color:green\">+3.50%</font></td>\n",
       " </tr>, <tr>\n",
       " <td align=\"center\">40</td>\n",
       " <td align=\"center\">42</td>\n",
       " <td><a href=\"/wiki/Chilliwack\" title=\"Chilliwack\">Chilliwack</a></td>\n",
       " <td><a href=\"/wiki/British_Columbia\" title=\"British Columbia\">British Columbia</a></td>\n",
       " <td><a href=\"/wiki/Census_geographic_units_of_Canada#Census_agglomerations\" title=\"Census geographic units of Canada\">CA</a></td>\n",
       " <td align=\"right\" bgcolor=\"#F9F9F9\" rowspan=\"1\">101,512</td>\n",
       " <td align=\"right\" bgcolor=\"#F9F9F9\" rowspan=\"1\">93,882</td>\n",
       " <td align=\"right\" bgcolor=\"#F9F9F9\" rowspan=\"1\"><span class=\"sortkey\" style=\"display:none\">7000812722353592810♠</span><font style=\"color:green\">+8.13%</font></td>\n",
       " </tr>, <tr>\n",
       " <td align=\"center\">41</td>\n",
       " <td align=\"center\">43</td>\n",
       " <td><a href=\"/wiki/Red_Deer,_Alberta\" title=\"Red Deer, Alberta\">Red Deer</a></td>\n",
       " <td><a href=\"/wiki/Alberta\" title=\"Alberta\">Alberta</a></td>\n",
       " <td><a href=\"/wiki/Census_geographic_units_of_Canada#Census_agglomerations\" title=\"Census geographic units of Canada\">CA</a></td>\n",
       " <td align=\"right\" bgcolor=\"#F9F9F9\" rowspan=\"1\">100,418</td>\n",
       " <td align=\"right\" bgcolor=\"#F9F9F9\" rowspan=\"1\">90,564</td>\n",
       " <td align=\"right\" bgcolor=\"#F9F9F9\" rowspan=\"1\"><span class=\"sortkey\" style=\"display:none\">7001108807031491540♠</span><font style=\"color:green\">+10.88%</font></td>\n",
       " </tr>, <tr>\n",
       " <td align=\"center\">42</td>\n",
       " <td align=\"center\">36</td>\n",
       " <td><a href=\"/wiki/Cape_Breton_Regional_Municipality\" title=\"Cape Breton Regional Municipality\">Cape Breton</a></td>\n",
       " <td><a href=\"/wiki/Nova_Scotia\" title=\"Nova Scotia\">Nova Scotia</a></td>\n",
       " <td><a href=\"/wiki/Census_geographic_units_of_Canada#Census_agglomerations\" title=\"Census geographic units of Canada\">CA</a></td>\n",
       " <td align=\"right\" bgcolor=\"#F9F9F9\" rowspan=\"1\">98,722</td>\n",
       " <td align=\"right\" bgcolor=\"#F9F9F9\" rowspan=\"1\">101,619</td>\n",
       " <td align=\"right\" bgcolor=\"#F9F9F9\" rowspan=\"1\"><span class=\"sortkey\" style=\"display:none\">2999714915517767350♠</span><font style=\"color:red\">−2.85%</font></td>\n",
       " </tr>, <tr>\n",
       " <td align=\"center\">43</td>\n",
       " <td align=\"center\">44</td>\n",
       " <td><a href=\"/wiki/Sarnia\" title=\"Sarnia\">Sarnia</a> (<a href=\"/wiki/St._Clair,_Ontario\" title=\"St. Clair, Ontario\">St. Clair</a>)</td>\n",
       " <td><a href=\"/wiki/Ontario\" title=\"Ontario\">Ontario</a></td>\n",
       " <td><a href=\"/wiki/Census_geographic_units_of_Canada#Census_agglomerations\" title=\"Census geographic units of Canada\">CA</a></td>\n",
       " <td align=\"right\" bgcolor=\"#F9F9F9\" rowspan=\"1\">96,151</td>\n",
       " <td align=\"right\" bgcolor=\"#F9F9F9\" rowspan=\"1\">97,131</td>\n",
       " <td align=\"right\" bgcolor=\"#F9F9F9\" rowspan=\"1\"><span class=\"sortkey\" style=\"display:none\">2999899105331974340♠</span><font style=\"color:red\">−1.01%</font></td>\n",
       " </tr>, <tr>\n",
       " <td align=\"center\">44</td>\n",
       " <td align=\"center\">45</td>\n",
       " <td><a href=\"/wiki/Drummondville\" title=\"Drummondville\">Drummondville</a></td>\n",
       " <td><a href=\"/wiki/Quebec\" title=\"Quebec\">Quebec</a></td>\n",
       " <td><a href=\"/wiki/Census_geographic_units_of_Canada#Census_agglomerations\" title=\"Census geographic units of Canada\">CA</a></td>\n",
       " <td align=\"right\" bgcolor=\"#F9F9F9\" rowspan=\"1\">96,118</td>\n",
       " <td align=\"right\" bgcolor=\"#F9F9F9\" rowspan=\"1\">91,222</td>\n",
       " <td align=\"right\" bgcolor=\"#F9F9F9\" rowspan=\"1\"><span class=\"sortkey\" style=\"display:none\">7000536712635109950♠</span><font style=\"color:green\">+5.37%</font></td>\n",
       " </tr>, <tr>\n",
       " <td align=\"center\">45</td>\n",
       " <td align=\"center\">46</td>\n",
       " <td><a href=\"/wiki/Prince_George,_British_Columbia\" title=\"Prince George, British Columbia\">Prince George</a></td>\n",
       " <td><a href=\"/wiki/British_Columbia\" title=\"British Columbia\">British Columbia</a></td>\n",
       " <td><a href=\"/wiki/Census_geographic_units_of_Canada#Census_agglomerations\" title=\"Census geographic units of Canada\">CA</a></td>\n",
       " <td align=\"right\" bgcolor=\"#F9F9F9\" rowspan=\"1\">86,622</td>\n",
       " <td align=\"right\" bgcolor=\"#F9F9F9\" rowspan=\"1\">84,232</td>\n",
       " <td align=\"right\" bgcolor=\"#F9F9F9\" rowspan=\"1\"><span class=\"sortkey\" style=\"display:none\">7000283740146262700♠</span><font style=\"color:green\">+2.84%</font></td>\n",
       " </tr>, <tr>\n",
       " <td align=\"center\">46</td>\n",
       " <td align=\"center\">48</td>\n",
       " <td><a href=\"/wiki/Granby,_Quebec\" title=\"Granby, Quebec\">Granby</a> (<a href=\"/wiki/Bromont,_Quebec\" title=\"Bromont, Quebec\">Bromont</a>)</td>\n",
       " <td><a href=\"/wiki/Quebec\" title=\"Quebec\">Quebec</a></td>\n",
       " <td><a href=\"/wiki/Census_geographic_units_of_Canada#Census_agglomerations\" title=\"Census geographic units of Canada\">CA</a></td>\n",
       " <td align=\"right\" bgcolor=\"#F9F9F9\" rowspan=\"1\">85,056</td>\n",
       " <td align=\"right\" bgcolor=\"#F9F9F9\" rowspan=\"1\">80,863</td>\n",
       " <td align=\"right\" bgcolor=\"#F9F9F9\" rowspan=\"1\"><span class=\"sortkey\" style=\"display:none\">7000518531343135920♠</span><font style=\"color:green\">+5.19%</font></td>\n",
       " </tr>, <tr>\n",
       " <td align=\"center\">47</td>\n",
       " <td align=\"center\">47</td>\n",
       " <td><a href=\"/wiki/Sault_Ste._Marie,_Ontario\" title=\"Sault Ste. Marie, Ontario\">Sault Ste. Marie</a></td>\n",
       " <td><a href=\"/wiki/Ontario\" title=\"Ontario\">Ontario</a></td>\n",
       " <td><a href=\"/wiki/Census_geographic_units_of_Canada#Census_agglomerations\" title=\"Census geographic units of Canada\">CA</a></td>\n",
       " <td align=\"right\" bgcolor=\"#F9F9F9\" rowspan=\"1\">78,159</td>\n",
       " <td align=\"right\" bgcolor=\"#F9F9F9\" rowspan=\"1\">79,800</td>\n",
       " <td align=\"right\" bgcolor=\"#F9F9F9\" rowspan=\"1\"><span class=\"sortkey\" style=\"display:none\">2999794360902255640♠</span><font style=\"color:red\">−2.06%</font></td>\n",
       " </tr>, <tr>\n",
       " <td align=\"center\">48</td>\n",
       " <td align=\"center\">50</td>\n",
       " <td><a href=\"/wiki/Medicine_Hat\" title=\"Medicine Hat\">Medicine Hat</a> (<a href=\"/wiki/Cypress_County\" title=\"Cypress County\">Cypress County</a>)</td>\n",
       " <td><a href=\"/wiki/Alberta\" title=\"Alberta\">Alberta</a></td>\n",
       " <td><a href=\"/wiki/Census_geographic_units_of_Canada#Census_agglomerations\" title=\"Census geographic units of Canada\">CA</a></td>\n",
       " <td align=\"right\" bgcolor=\"#F9F9F9\" rowspan=\"1\">76,522</td>\n",
       " <td align=\"right\" bgcolor=\"#F9F9F9\" rowspan=\"1\">72,807</td>\n",
       " <td align=\"right\" bgcolor=\"#F9F9F9\" rowspan=\"1\"><span class=\"sortkey\" style=\"display:none\">7000510253135000760♠</span><font style=\"color:green\">+5.10%</font></td>\n",
       " </tr>, <tr>\n",
       " <td align=\"center\">49</td>\n",
       " <td align=\"center\">49</td>\n",
       " <td><a href=\"/wiki/Kawartha_Lakes\" title=\"Kawartha Lakes\">Kawartha Lakes</a></td>\n",
       " <td><a href=\"/wiki/Ontario\" title=\"Ontario\">Ontario</a></td>\n",
       " <td><a href=\"/wiki/Census_geographic_units_of_Canada#Census_agglomerations\" title=\"Census geographic units of Canada\">CA</a></td>\n",
       " <td align=\"right\" bgcolor=\"#F9F9F9\" rowspan=\"1\">75,423</td>\n",
       " <td align=\"right\" bgcolor=\"#F9F9F9\" rowspan=\"1\">73,219</td>\n",
       " <td align=\"right\" bgcolor=\"#F9F9F9\" rowspan=\"1\"><span class=\"sortkey\" style=\"display:none\">7000301014763927400♠</span><font style=\"color:green\">+3.01%</font></td>\n",
       " </tr>, <tr>\n",
       " <td align=\"center\">50</td>\n",
       " <td align=\"center\">51</td>\n",
       " <td><a href=\"/wiki/Regional_Municipality_of_Wood_Buffalo\" title=\"Regional Municipality of Wood Buffalo\">Wood Buffalo</a></td>\n",
       " <td><a href=\"/wiki/Alberta\" title=\"Alberta\">Alberta</a></td>\n",
       " <td><a href=\"/wiki/Census_geographic_units_of_Canada#Census_agglomerations\" title=\"Census geographic units of Canada\">CA</a></td>\n",
       " <td align=\"right\" bgcolor=\"#F9F9F9\" rowspan=\"1\">73,320</td>\n",
       " <td align=\"right\" bgcolor=\"#F9F9F9\" rowspan=\"1\">66,896</td>\n",
       " <td align=\"right\" bgcolor=\"#F9F9F9\" rowspan=\"1\"><span class=\"sortkey\" style=\"display:none\">7000960296579765610♠</span><font style=\"color:green\">+9.60%</font></td>\n",
       " </tr>, <tr>\n",
       " <td align=\"center\">51</td>\n",
       " <td align=\"center\">53</td>\n",
       " <td><a href=\"/wiki/North_Bay,_Ontario\" title=\"North Bay, Ontario\">North Bay</a></td>\n",
       " <td><a href=\"/wiki/Ontario\" title=\"Ontario\">Ontario</a></td>\n",
       " <td><a href=\"/wiki/Census_geographic_units_of_Canada#Census_agglomerations\" title=\"Census geographic units of Canada\">CA</a></td>\n",
       " <td align=\"right\" bgcolor=\"#F9F9F9\" rowspan=\"1\">70,378</td>\n",
       " <td align=\"right\" bgcolor=\"#F9F9F9\" rowspan=\"1\">72,241</td>\n",
       " <td align=\"right\" bgcolor=\"#F9F9F9\" rowspan=\"1\"><span class=\"sortkey\" style=\"display:none\">2999742113204413010♠</span><font style=\"color:red\">−2.58%</font></td>\n",
       " </tr>, <tr>\n",
       " <td align=\"center\">52</td>\n",
       " <td align=\"center\">52</td>\n",
       " <td><a href=\"/wiki/Charlottetown\" title=\"Charlottetown\">Charlottetown</a> (<a href=\"/wiki/Stratford,_Prince_Edward_Island\" title=\"Stratford, Prince Edward Island\">Stratford</a>)</td>\n",
       " <td><a href=\"/wiki/Prince_Edward_Island\" title=\"Prince Edward Island\">Prince Edward Island</a></td>\n",
       " <td><a href=\"/wiki/Census_geographic_units_of_Canada#Census_agglomerations\" title=\"Census geographic units of Canada\">CA</a></td>\n",
       " <td align=\"right\" bgcolor=\"#F9F9F9\" rowspan=\"1\">69,325</td>\n",
       " <td align=\"right\" bgcolor=\"#F9F9F9\" rowspan=\"1\">65,523</td>\n",
       " <td align=\"right\" bgcolor=\"#F9F9F9\" rowspan=\"1\"><span class=\"sortkey\" style=\"display:none\">7000580254261862250♠</span><font style=\"color:green\">+5.80%</font></td>\n",
       " </tr>, <tr>\n",
       " <td align=\"center\">53</td>\n",
       " <td align=\"center\">54</td>\n",
       " <td><a href=\"/wiki/Norfolk_County,_Ontario\" title=\"Norfolk County, Ontario\">Norfolk</a></td>\n",
       " <td><a href=\"/wiki/Ontario\" title=\"Ontario\">Ontario</a></td>\n",
       " <td><a href=\"/wiki/Census_geographic_units_of_Canada#Census_agglomerations\" title=\"Census geographic units of Canada\">CA</a></td>\n",
       " <td align=\"right\" bgcolor=\"#F9F9F9\" rowspan=\"1\">64,044</td>\n",
       " <td align=\"right\" bgcolor=\"#F9F9F9\" rowspan=\"1\">63,175</td>\n",
       " <td align=\"right\" bgcolor=\"#F9F9F9\" rowspan=\"1\"><span class=\"sortkey\" style=\"display:none\">7000137554412346660♠</span><font style=\"color:green\">+1.38%</font></td>\n",
       " </tr>, <tr>\n",
       " <td align=\"center\">54</td>\n",
       " <td align=\"center\">59</td>\n",
       " <td><a href=\"/wiki/Grande_Prairie\" title=\"Grande Prairie\">Grande Prairie</a></td>\n",
       " <td><a href=\"/wiki/Alberta\" title=\"Alberta\">Alberta</a></td>\n",
       " <td><a href=\"/wiki/Census_geographic_units_of_Canada#Census_agglomerations\" title=\"Census geographic units of Canada\">CA</a></td>\n",
       " <td align=\"right\" bgcolor=\"#F9F9F9\" rowspan=\"1\">63,166</td>\n",
       " <td align=\"right\" bgcolor=\"#F9F9F9\" rowspan=\"1\">55,655</td>\n",
       " <td align=\"right\" bgcolor=\"#F9F9F9\" rowspan=\"1\"><span class=\"sortkey\" style=\"display:none\">7001134956427993890♠</span><font style=\"color:green\">+13.50%</font></td>\n",
       " </tr>, <tr>\n",
       " <td align=\"center\">55</td>\n",
       " <td align=\"center\">56</td>\n",
       " <td><a href=\"/wiki/Vernon,_British_Columbia\" title=\"Vernon, British Columbia\">Vernon</a> (<a href=\"/wiki/Coldstream,_British_Columbia\" title=\"Coldstream, British Columbia\">Coldstream</a>)</td>\n",
       " <td><a href=\"/wiki/British_Columbia\" title=\"British Columbia\">British Columbia</a></td>\n",
       " <td><a href=\"/wiki/Census_geographic_units_of_Canada#Census_agglomerations\" title=\"Census geographic units of Canada\">CA</a></td>\n",
       " <td align=\"right\" bgcolor=\"#F9F9F9\" rowspan=\"1\">61,334</td>\n",
       " <td align=\"right\" bgcolor=\"#F9F9F9\" rowspan=\"1\">58,584</td>\n",
       " <td align=\"right\" bgcolor=\"#F9F9F9\" rowspan=\"1\"><span class=\"sortkey\" style=\"display:none\">7000469411443397510♠</span><font style=\"color:green\">+4.69%</font></td>\n",
       " </tr>, <tr>\n",
       " <td align=\"center\">56</td>\n",
       " <td align=\"center\">55</td>\n",
       " <td><a href=\"/wiki/Cornwall,_Ontario\" title=\"Cornwall, Ontario\">Cornwall</a> (<a class=\"mw-redirect\" href=\"/wiki/South_Stormont,_Ontario\" title=\"South Stormont, Ontario\">South Stormont</a>)</td>\n",
       " <td><a href=\"/wiki/Ontario\" title=\"Ontario\">Ontario</a></td>\n",
       " <td><a href=\"/wiki/Census_geographic_units_of_Canada#Census_agglomerations\" title=\"Census geographic units of Canada\">CA</a></td>\n",
       " <td align=\"right\" bgcolor=\"#F9F9F9\" rowspan=\"1\">59,699</td>\n",
       " <td align=\"right\" bgcolor=\"#F9F9F9\" rowspan=\"1\">58,957</td>\n",
       " <td align=\"right\" bgcolor=\"#F9F9F9\" rowspan=\"1\"><span class=\"sortkey\" style=\"display:none\">7000125854436284070♠</span><font style=\"color:green\">+1.26%</font></td>\n",
       " </tr>, <tr>\n",
       " <td align=\"center\">57</td>\n",
       " <td align=\"center\">57</td>\n",
       " <td><a href=\"/wiki/Saint-Hyacinthe,_Quebec\" title=\"Saint-Hyacinthe, Quebec\">Saint-Hyacinthe</a></td>\n",
       " <td><a href=\"/wiki/Quebec\" title=\"Quebec\">Quebec</a></td>\n",
       " <td><a href=\"/wiki/Census_geographic_units_of_Canada#Census_agglomerations\" title=\"Census geographic units of Canada\">CA</a></td>\n",
       " <td align=\"right\" bgcolor=\"#F9F9F9\" rowspan=\"1\">59,614</td>\n",
       " <td align=\"right\" bgcolor=\"#F9F9F9\" rowspan=\"1\">56,794</td>\n",
       " <td align=\"right\" bgcolor=\"#F9F9F9\" rowspan=\"1\"><span class=\"sortkey\" style=\"display:none\">7000496531323731380♠</span><font style=\"color:green\">+4.97%</font></td>\n",
       " </tr>, <tr>\n",
       " <td align=\"center\">58</td>\n",
       " <td align=\"center\">61</td>\n",
       " <td><a href=\"/wiki/Brandon,_Manitoba\" title=\"Brandon, Manitoba\">Brandon</a></td>\n",
       " <td><a href=\"/wiki/Manitoba\" title=\"Manitoba\">Manitoba</a></td>\n",
       " <td><a href=\"/wiki/Census_geographic_units_of_Canada#Census_agglomerations\" title=\"Census geographic units of Canada\">CA</a></td>\n",
       " <td align=\"right\" bgcolor=\"#F9F9F9\" rowspan=\"1\">58,003</td>\n",
       " <td align=\"right\" bgcolor=\"#F9F9F9\" rowspan=\"1\">54,847</td>\n",
       " <td align=\"right\" bgcolor=\"#F9F9F9\" rowspan=\"1\"><span class=\"sortkey\" style=\"display:none\">7000575418892555650♠</span><font style=\"color:green\">+5.75%</font></td>\n",
       " </tr>, <tr>\n",
       " <td align=\"center\">59</td>\n",
       " <td align=\"center\">62</td>\n",
       " <td><a href=\"/wiki/Rimouski\" title=\"Rimouski\">Rimouski</a></td>\n",
       " <td><a href=\"/wiki/Quebec\" title=\"Quebec\">Quebec</a></td>\n",
       " <td><a href=\"/wiki/Census_geographic_units_of_Canada#Census_agglomerations\" title=\"Census geographic units of Canada\">CA</a></td>\n",
       " <td align=\"right\" bgcolor=\"#F9F9F9\" rowspan=\"1\">55,349</td>\n",
       " <td align=\"right\" bgcolor=\"#F9F9F9\" rowspan=\"1\">53,711</td>\n",
       " <td align=\"right\" bgcolor=\"#F9F9F9\" rowspan=\"1\"><span class=\"sortkey\" style=\"display:none\">7000304965463312920♠</span><font style=\"color:green\">+3.05%</font></td>\n",
       " </tr>, <tr>\n",
       " <td align=\"center\">60</td>\n",
       " <td align=\"center\">60</td>\n",
       " <td><a href=\"/wiki/Shawinigan\" title=\"Shawinigan\">Shawinigan</a></td>\n",
       " <td><a href=\"/wiki/Quebec\" title=\"Quebec\">Quebec</a></td>\n",
       " <td><a href=\"/wiki/Census_geographic_units_of_Canada#Census_agglomerations\" title=\"Census geographic units of Canada\">CA</a></td>\n",
       " <td align=\"right\" bgcolor=\"#F9F9F9\" rowspan=\"1\">54,181</td>\n",
       " <td align=\"right\" bgcolor=\"#F9F9F9\" rowspan=\"1\">54,489</td>\n",
       " <td align=\"right\" bgcolor=\"#F9F9F9\" rowspan=\"1\"><span class=\"sortkey\" style=\"display:none\">3000434748297821570♠</span><font style=\"color:red\">−0.57%</font></td>\n",
       " </tr>, <tr>\n",
       " <td align=\"center\">61</td>\n",
       " <td align=\"center\">58</td>\n",
       " <td><a href=\"/wiki/Courtenay,_British_Columbia\" title=\"Courtenay, British Columbia\">Courtenay</a> (<a href=\"/wiki/Comox,_British_Columbia\" title=\"Comox, British Columbia\">Comox</a>, <a href=\"/wiki/Comox_Valley_Regional_District\" title=\"Comox Valley Regional District\">Comox Valley A &amp; B</a>)</td>\n",
       " <td><a href=\"/wiki/British_Columbia\" title=\"British Columbia\">British Columbia</a></td>\n",
       " <td><a href=\"/wiki/Census_geographic_units_of_Canada#Census_agglomerations\" title=\"Census geographic units of Canada\">CA</a></td>\n",
       " <td align=\"right\" bgcolor=\"#F9F9F9\" rowspan=\"1\">54,157</td>\n",
       " <td align=\"right\" bgcolor=\"#F9F9F9\" rowspan=\"1\">51,787</td>\n",
       " <td align=\"right\" bgcolor=\"#F9F9F9\" rowspan=\"1\"><span class=\"sortkey\" style=\"display:none\">7000457643810222640♠</span><font style=\"color:green\">+4.58%</font></td>\n",
       " </tr>, <tr>\n",
       " <td align=\"center\">62</td>\n",
       " <td align=\"center\">65</td>\n",
       " <td><a href=\"/wiki/Joliette\" title=\"Joliette\">Joliette</a> (<a href=\"/wiki/Notre-Dame-des-Prairies,_Quebec\" title=\"Notre-Dame-des-Prairies, Quebec\">Notre-Dame-des-Prairies</a>, <a href=\"/wiki/Saint-Charles-Borrom%C3%A9e,_Quebec\" title=\"Saint-Charles-Borromée, Quebec\">Saint-Charles-Borromée</a>, <a href=\"/wiki/Saint-Paul,_Quebec\" title=\"Saint-Paul, Quebec\">Saint-Paul</a>)</td>\n",
       " <td><a href=\"/wiki/Quebec\" title=\"Quebec\">Quebec</a></td>\n",
       " <td><a href=\"/wiki/Census_geographic_units_of_Canada#Census_agglomerations\" title=\"Census geographic units of Canada\">CA</a></td>\n",
       " <td align=\"right\" bgcolor=\"#F9F9F9\" rowspan=\"1\">49,439</td>\n",
       " <td align=\"right\" bgcolor=\"#F9F9F9\" rowspan=\"1\">46,932</td>\n",
       " <td align=\"right\" bgcolor=\"#F9F9F9\" rowspan=\"1\"><span class=\"sortkey\" style=\"display:none\">7000534177107304190♠</span><font style=\"color:green\">+5.34%</font></td>\n",
       " </tr>, <tr>\n",
       " <td align=\"center\">63</td>\n",
       " <td align=\"center\">66</td>\n",
       " <td><a href=\"/wiki/Victoriaville\" title=\"Victoriaville\">Victoriaville</a></td>\n",
       " <td><a href=\"/wiki/Quebec\" title=\"Quebec\">Quebec</a></td>\n",
       " <td><a href=\"/wiki/Census_geographic_units_of_Canada#Census_agglomerations\" title=\"Census geographic units of Canada\">CA</a></td>\n",
       " <td align=\"right\" bgcolor=\"#F9F9F9\" rowspan=\"1\">49,151</td>\n",
       " <td align=\"right\" bgcolor=\"#F9F9F9\" rowspan=\"1\">46,354</td>\n",
       " <td align=\"right\" bgcolor=\"#F9F9F9\" rowspan=\"1\"><span class=\"sortkey\" style=\"display:none\">7000603399922336800♠</span><font style=\"color:green\">+6.03%</font></td>\n",
       " </tr>, <tr>\n",
       " <td align=\"center\">64</td>\n",
       " <td align=\"center\">63</td>\n",
       " <td><a href=\"/wiki/Leamington,_Ontario\" title=\"Leamington, Ontario\">Leamington</a> (<a href=\"/wiki/Kingsville,_Ontario\" title=\"Kingsville, Ontario\">Kingsville</a>)</td>\n",
       " <td><a href=\"/wiki/Ontario\" title=\"Ontario\">Ontario</a></td>\n",
       " <td><a href=\"/wiki/Census_geographic_units_of_Canada#Census_agglomerations\" title=\"Census geographic units of Canada\">CA</a></td>\n",
       " <td align=\"right\" bgcolor=\"#F9F9F9\" rowspan=\"1\">49,147</td>\n",
       " <td align=\"right\" bgcolor=\"#F9F9F9\" rowspan=\"1\">49,765</td>\n",
       " <td align=\"right\" bgcolor=\"#F9F9F9\" rowspan=\"1\"><span class=\"sortkey\" style=\"display:none\">2999875816336782880♠</span><font style=\"color:red\">−1.24%</font></td>\n",
       " </tr>, <tr>\n",
       " <td align=\"center\">65</td>\n",
       " <td align=\"center\">67</td>\n",
       " <td><a href=\"/wiki/Truro,_Nova_Scotia\" title=\"Truro, Nova Scotia\">Truro</a> (<a class=\"mw-redirect\" href=\"/wiki/Colchester_County,_Nova_Scotia\" title=\"Colchester County, Nova Scotia\">Colchester, Subd. B &amp; C</a>)</td>\n",
       " <td><a href=\"/wiki/Nova_Scotia\" title=\"Nova Scotia\">Nova Scotia</a></td>\n",
       " <td><a href=\"/wiki/Census_geographic_units_of_Canada#Census_agglomerations\" title=\"Census geographic units of Canada\">CA</a></td>\n",
       " <td align=\"right\" bgcolor=\"#F9F9F9\" rowspan=\"1\">45,753</td>\n",
       " <td align=\"right\" bgcolor=\"#F9F9F9\" rowspan=\"1\">45,888</td>\n",
       " <td align=\"right\" bgcolor=\"#F9F9F9\" rowspan=\"1\"><span class=\"sortkey\" style=\"display:none\">3000705805439330540♠</span><font style=\"color:red\">−0.29%</font></td>\n",
       " </tr>, <tr>\n",
       " <td align=\"center\">66</td>\n",
       " <td align=\"center\">68</td>\n",
       " <td><a href=\"/wiki/Duncan,_British_Columbia\" title=\"Duncan, British Columbia\">Duncan</a> (<a class=\"mw-redirect\" href=\"/wiki/North_Cowichan,_British_Columbia\" title=\"North Cowichan, British Columbia\">North Cowichan</a>)</td>\n",
       " <td><a href=\"/wiki/British_Columbia\" title=\"British Columbia\">British Columbia</a></td>\n",
       " <td><a href=\"/wiki/Census_geographic_units_of_Canada#Census_agglomerations\" title=\"Census geographic units of Canada\">CA</a></td>\n",
       " <td align=\"right\" bgcolor=\"#F9F9F9\" rowspan=\"1\">44,451</td>\n",
       " <td align=\"right\" bgcolor=\"#F9F9F9\" rowspan=\"1\">43,252</td>\n",
       " <td align=\"right\" bgcolor=\"#F9F9F9\" rowspan=\"1\"><span class=\"sortkey\" style=\"display:none\">7000277212614445570♠</span><font style=\"color:green\">+2.77%</font></td>\n",
       " </tr>, <tr>\n",
       " <td align=\"center\">67</td>\n",
       " <td align=\"center\">70</td>\n",
       " <td><a href=\"/wiki/Prince_Albert,_Saskatchewan\" title=\"Prince Albert, Saskatchewan\">Prince Albert</a></td>\n",
       " <td><a href=\"/wiki/Saskatchewan\" title=\"Saskatchewan\">Saskatchewan</a></td>\n",
       " <td><a href=\"/wiki/Census_geographic_units_of_Canada#Census_agglomerations\" title=\"Census geographic units of Canada\">CA</a></td>\n",
       " <td align=\"right\" bgcolor=\"#F9F9F9\" rowspan=\"1\">44,160</td>\n",
       " <td align=\"right\" bgcolor=\"#F9F9F9\" rowspan=\"1\">43,680</td>\n",
       " <td align=\"right\" bgcolor=\"#F9F9F9\" rowspan=\"1\"><span class=\"sortkey\" style=\"display:none\">7000109890109890110♠</span><font style=\"color:green\">+1.10%</font></td>\n",
       " </tr>, <tr>\n",
       " <td align=\"center\">68</td>\n",
       " <td align=\"center\">71</td>\n",
       " <td><a href=\"/wiki/Penticton\" title=\"Penticton\">Penticton</a> (<a href=\"/wiki/Regional_District_of_Okanagan-Similkameen\" title=\"Regional District of Okanagan-Similkameen\">Okanagan-Similkameen D</a>)</td>\n",
       " <td><a href=\"/wiki/British_Columbia\" title=\"British Columbia\">British Columbia</a></td>\n",
       " <td><a href=\"/wiki/Census_geographic_units_of_Canada#Census_agglomerations\" title=\"Census geographic units of Canada\">CA</a></td>\n",
       " <td align=\"right\" bgcolor=\"#F9F9F9\" rowspan=\"1\">43,432</td>\n",
       " <td align=\"right\" bgcolor=\"#F9F9F9\" rowspan=\"1\">42,361</td>\n",
       " <td align=\"right\" bgcolor=\"#F9F9F9\" rowspan=\"1\"><span class=\"sortkey\" style=\"display:none\">7000252826892660700♠</span><font style=\"color:green\">+2.53%</font></td>\n",
       " </tr>, <tr>\n",
       " <td align=\"center\">69</td>\n",
       " <td align=\"center\">72</td>\n",
       " <td><a href=\"/wiki/Rouyn-Noranda\" title=\"Rouyn-Noranda\">Rouyn-Noranda</a></td>\n",
       " <td><a href=\"/wiki/Quebec\" title=\"Quebec\">Quebec</a></td>\n",
       " <td><a href=\"/wiki/Census_geographic_units_of_Canada#Census_agglomerations\" title=\"Census geographic units of Canada\">CA</a></td>\n",
       " <td align=\"right\" bgcolor=\"#F9F9F9\" rowspan=\"1\">42,334</td>\n",
       " <td align=\"right\" bgcolor=\"#F9F9F9\" rowspan=\"1\">41,012</td>\n",
       " <td align=\"right\" bgcolor=\"#F9F9F9\" rowspan=\"1\"><span class=\"sortkey\" style=\"display:none\">7000322344679605970♠</span><font style=\"color:green\">+3.22%</font></td>\n",
       " </tr>, <tr>\n",
       " <td align=\"center\">70</td>\n",
       " <td align=\"center\">69</td>\n",
       " <td><a href=\"/wiki/Timmins\" title=\"Timmins\">Timmins</a></td>\n",
       " <td><a href=\"/wiki/Ontario\" title=\"Ontario\">Ontario</a></td>\n",
       " <td><a href=\"/wiki/Census_geographic_units_of_Canada#Census_agglomerations\" title=\"Census geographic units of Canada\">CA</a></td>\n",
       " <td align=\"right\" bgcolor=\"#F9F9F9\" rowspan=\"1\">41,788</td>\n",
       " <td align=\"right\" bgcolor=\"#F9F9F9\" rowspan=\"1\">43,165</td>\n",
       " <td align=\"right\" bgcolor=\"#F9F9F9\" rowspan=\"1\"><span class=\"sortkey\" style=\"display:none\">2999680991544075060♠</span><font style=\"color:red\">−3.19%</font></td>\n",
       " </tr>, <tr>\n",
       " <td align=\"center\">71</td>\n",
       " <td align=\"center\">64</td>\n",
       " <td><a href=\"/wiki/Sorel-Tracy\" title=\"Sorel-Tracy\">Sorel-Tracy</a></td>\n",
       " <td><a href=\"/wiki/Quebec\" title=\"Quebec\">Quebec</a></td>\n",
       " <td><a href=\"/wiki/Census_geographic_units_of_Canada#Census_agglomerations\" title=\"Census geographic units of Canada\">CA</a></td>\n",
       " <td align=\"right\" bgcolor=\"#F9F9F9\" rowspan=\"1\">41,629</td>\n",
       " <td align=\"right\" bgcolor=\"#F9F9F9\" rowspan=\"1\">41,520</td>\n",
       " <td align=\"right\" bgcolor=\"#F9F9F9\" rowspan=\"1\"><span class=\"sortkey\" style=\"display:none\">6999262524084778429♠</span><font style=\"color:green\">+0.26%</font></td>\n",
       " </tr>, <tr>\n",
       " <td align=\"center\">72</td>\n",
       " <td align=\"center\">76</td>\n",
       " <td><a href=\"/wiki/Woodstock,_Ontario\" title=\"Woodstock, Ontario\">Woodstock</a></td>\n",
       " <td><a href=\"/wiki/Ontario\" title=\"Ontario\">Ontario</a></td>\n",
       " <td><a href=\"/wiki/Census_geographic_units_of_Canada#Census_agglomerations\" title=\"Census geographic units of Canada\">CA</a></td>\n",
       " <td align=\"right\" bgcolor=\"#F9F9F9\" rowspan=\"1\">40,902</td>\n",
       " <td align=\"right\" bgcolor=\"#F9F9F9\" rowspan=\"1\">37,754</td>\n",
       " <td align=\"right\" bgcolor=\"#F9F9F9\" rowspan=\"1\"><span class=\"sortkey\" style=\"display:none\">7000833818933093179♠</span><font style=\"color:green\">+8.34%</font></td>\n",
       " </tr>, <tr>\n",
       " <td align=\"center\">73</td>\n",
       " <td align=\"center\">74</td>\n",
       " <td><a href=\"/wiki/Salaberry-de-Valleyfield\" title=\"Salaberry-de-Valleyfield\">Salaberry-de-Valleyfield</a></td>\n",
       " <td><a href=\"/wiki/Quebec\" title=\"Quebec\">Quebec</a></td>\n",
       " <td><a href=\"/wiki/Census_geographic_units_of_Canada#Census_agglomerations\" title=\"Census geographic units of Canada\">CA</a></td>\n",
       " <td align=\"right\" bgcolor=\"#F9F9F9\" rowspan=\"1\">40,745</td>\n",
       " <td align=\"right\" bgcolor=\"#F9F9F9\" rowspan=\"1\">40,077</td>\n",
       " <td align=\"right\" bgcolor=\"#F9F9F9\" rowspan=\"1\"><span class=\"sortkey\" style=\"display:none\">7000166679142650400♠</span><font style=\"color:green\">+1.67%</font></td>\n",
       " </tr>, <tr>\n",
       " <td align=\"center\">74</td>\n",
       " <td align=\"center\">75</td>\n",
       " <td><a href=\"/wiki/Brockville\" title=\"Brockville\">Brockville</a> (<a class=\"mw-redirect\" href=\"/wiki/Elizabethtown-Kitley,_Ontario\" title=\"Elizabethtown-Kitley, Ontario\">Elizabethtown-Kitley</a>, <a href=\"/wiki/Augusta,_Ontario\" title=\"Augusta, Ontario\">Augusta</a>)</td>\n",
       " <td><a href=\"/wiki/Ontario\" title=\"Ontario\">Ontario</a></td>\n",
       " <td><a href=\"/wiki/Census_geographic_units_of_Canada#Census_agglomerations\" title=\"Census geographic units of Canada\">CA</a></td>\n",
       " <td align=\"right\" bgcolor=\"#F9F9F9\" rowspan=\"1\">38,553</td>\n",
       " <td align=\"right\" bgcolor=\"#F9F9F9\" rowspan=\"1\">39,024</td>\n",
       " <td align=\"right\" bgcolor=\"#F9F9F9\" rowspan=\"1\"><span class=\"sortkey\" style=\"display:none\">2999879305043050430♠</span><font style=\"color:red\">−1.21%</font></td>\n",
       " </tr>, <tr>\n",
       " <td align=\"center\">75</td>\n",
       " <td align=\"center\">77</td>\n",
       " <td><a href=\"/wiki/Campbell_River,_British_Columbia\" title=\"Campbell River, British Columbia\">Campbell River</a> (<a href=\"/wiki/Strathcona_Regional_District\" title=\"Strathcona Regional District\">Strathcona D</a>)</td>\n",
       " <td><a href=\"/wiki/British_Columbia\" title=\"British Columbia\">British Columbia</a></td>\n",
       " <td><a href=\"/wiki/Census_geographic_units_of_Canada#Census_agglomerations\" title=\"Census geographic units of Canada\">CA</a></td>\n",
       " <td align=\"right\" bgcolor=\"#F9F9F9\" rowspan=\"1\">37,861</td>\n",
       " <td align=\"right\" bgcolor=\"#F9F9F9\" rowspan=\"1\">36,096</td>\n",
       " <td align=\"right\" bgcolor=\"#F9F9F9\" rowspan=\"1\"><span class=\"sortkey\" style=\"display:none\">7000488973847517729♠</span><font style=\"color:green\">+4.89%</font></td>\n",
       " </tr>, <tr>\n",
       " <td align=\"center\">76</td>\n",
       " <td align=\"center\">79</td>\n",
       " <td><a href=\"/wiki/Midland,_Ontario\" title=\"Midland, Ontario\">Midland</a> (<a href=\"/wiki/Tay,_Ontario\" title=\"Tay, Ontario\">Tay</a>, <a href=\"/wiki/Penetanguishene\" title=\"Penetanguishene\">Penetanguishene</a>)</td>\n",
       " <td><a href=\"/wiki/Ontario\" title=\"Ontario\">Ontario</a></td>\n",
       " <td><a href=\"/wiki/Census_geographic_units_of_Canada#Census_agglomerations\" title=\"Census geographic units of Canada\">CA</a></td>\n",
       " <td align=\"right\" bgcolor=\"#F9F9F9\" rowspan=\"1\">35,859</td>\n",
       " <td align=\"right\" bgcolor=\"#F9F9F9\" rowspan=\"1\">35,419</td>\n",
       " <td align=\"right\" bgcolor=\"#F9F9F9\" rowspan=\"1\"><span class=\"sortkey\" style=\"display:none\">7000124227109743360♠</span><font style=\"color:green\">+1.24%</font></td>\n",
       " </tr>, <tr>\n",
       " <td align=\"center\">77</td>\n",
       " <td align=\"center\">81</td>\n",
       " <td><a href=\"/wiki/Moose_Jaw\" title=\"Moose Jaw\">Moose Jaw</a></td>\n",
       " <td><a href=\"/wiki/Saskatchewan\" title=\"Saskatchewan\">Saskatchewan</a></td>\n",
       " <td><a href=\"/wiki/Census_geographic_units_of_Canada#Census_agglomerations\" title=\"Census geographic units of Canada\">CA</a></td>\n",
       " <td align=\"right\" bgcolor=\"#F9F9F9\" rowspan=\"1\">35,053</td>\n",
       " <td align=\"right\" bgcolor=\"#F9F9F9\" rowspan=\"1\">34,421</td>\n",
       " <td align=\"right\" bgcolor=\"#F9F9F9\" rowspan=\"1\"><span class=\"sortkey\" style=\"display:none\">7000183608843438600♠</span><font style=\"color:green\">+1.84%</font></td>\n",
       " </tr>, <tr>\n",
       " <td align=\"center\">78</td>\n",
       " <td align=\"center\">87</td>\n",
       " <td><a href=\"/wiki/Lloydminster\" title=\"Lloydminster\">Lloydminster</a></td>\n",
       " <td><a href=\"/wiki/Alberta\" title=\"Alberta\">Alberta</a>/<a href=\"/wiki/Saskatchewan\" title=\"Saskatchewan\">Saskatchewan</a></td>\n",
       " <td><a href=\"/wiki/Census_geographic_units_of_Canada#Census_agglomerations\" title=\"Census geographic units of Canada\">CA</a></td>\n",
       " <td align=\"right\" bgcolor=\"#F9F9F9\" rowspan=\"1\">34,583</td>\n",
       " <td align=\"right\" bgcolor=\"#F9F9F9\" rowspan=\"1\">30,798</td>\n",
       " <td align=\"right\" bgcolor=\"#F9F9F9\" rowspan=\"1\"><span class=\"sortkey\" style=\"display:none\">7001122897590752650♠</span><font style=\"color:green\">+12.29%</font></td>\n",
       " </tr>, <tr>\n",
       " <td align=\"center\">79</td>\n",
       " <td align=\"center\">78</td>\n",
       " <td><a href=\"/wiki/New_Glasgow,_Nova_Scotia\" title=\"New Glasgow, Nova Scotia\">New Glasgow</a> (<a href=\"/wiki/Pictou_County,_Nova_Scotia\" title=\"Pictou County, Nova Scotia\">Pictou, Subd. C &amp; B</a>, <a class=\"mw-redirect\" href=\"/wiki/Stellarton,_Nova_Scotia\" title=\"Stellarton, Nova Scotia\">Stellarton</a>, <a href=\"/wiki/Westville,_Nova_Scotia\" title=\"Westville, Nova Scotia\">Westville</a>)</td>\n",
       " <td><a href=\"/wiki/Nova_Scotia\" title=\"Nova Scotia\">Nova Scotia</a></td>\n",
       " <td><a href=\"/wiki/Census_geographic_units_of_Canada#Census_agglomerations\" title=\"Census geographic units of Canada\">CA</a></td>\n",
       " <td align=\"right\" bgcolor=\"#F9F9F9\" rowspan=\"1\">34,487</td>\n",
       " <td align=\"right\" bgcolor=\"#F9F9F9\" rowspan=\"1\">35,809</td>\n",
       " <td align=\"right\" bgcolor=\"#F9F9F9\" rowspan=\"1\"><span class=\"sortkey\" style=\"display:none\">2999630819067832110♠</span><font style=\"color:red\">−3.69%</font></td>\n",
       " </tr>, <tr>\n",
       " <td align=\"center\">80</td>\n",
       " <td align=\"center\">83</td>\n",
       " <td><a href=\"/wiki/Val-d%27Or\" title=\"Val-d'Or\">Val-d'Or</a></td>\n",
       " <td><a href=\"/wiki/Quebec\" title=\"Quebec\">Quebec</a></td>\n",
       " <td><a href=\"/wiki/Census_geographic_units_of_Canada#Census_agglomerations\" title=\"Census geographic units of Canada\">CA</a></td>\n",
       " <td align=\"right\" bgcolor=\"#F9F9F9\" rowspan=\"1\">33,871</td>\n",
       " <td align=\"right\" bgcolor=\"#F9F9F9\" rowspan=\"1\">33,265</td>\n",
       " <td align=\"right\" bgcolor=\"#F9F9F9\" rowspan=\"1\"><span class=\"sortkey\" style=\"display:none\">7000182173455583950♠</span><font style=\"color:green\">+1.82%</font></td>\n",
       " </tr>, <tr>\n",
       " <td align=\"center\">81</td>\n",
       " <td align=\"center\">84</td>\n",
       " <td><a href=\"/wiki/Alma,_Quebec\" title=\"Alma, Quebec\">Alma</a></td>\n",
       " <td><a href=\"/wiki/Quebec\" title=\"Quebec\">Quebec</a></td>\n",
       " <td><a href=\"/wiki/Census_geographic_units_of_Canada#Census_agglomerations\" title=\"Census geographic units of Canada\">CA</a></td>\n",
       " <td align=\"right\" bgcolor=\"#F9F9F9\" rowspan=\"1\">32,849</td>\n",
       " <td align=\"right\" bgcolor=\"#F9F9F9\" rowspan=\"1\">33,018</td>\n",
       " <td align=\"right\" bgcolor=\"#F9F9F9\" rowspan=\"1\"><span class=\"sortkey\" style=\"display:none\">3000488157974438180♠</span><font style=\"color:red\">−0.51%</font></td>\n",
       " </tr>, <tr>\n",
       " <td align=\"center\">82</td>\n",
       " <td align=\"center\">80</td>\n",
       " <td><a href=\"/wiki/Saint-Georges,_Quebec\" title=\"Saint-Georges, Quebec\">Saint-Georges</a></td>\n",
       " <td><a href=\"/wiki/Quebec\" title=\"Quebec\">Quebec</a></td>\n",
       " <td><a href=\"/wiki/Census_geographic_units_of_Canada#Census_agglomerations\" title=\"Census geographic units of Canada\">CA</a></td>\n",
       " <td align=\"right\" bgcolor=\"#F9F9F9\" rowspan=\"1\">32,513</td>\n",
       " <td align=\"right\" bgcolor=\"#F9F9F9\" rowspan=\"1\">31,173</td>\n",
       " <td align=\"right\" bgcolor=\"#F9F9F9\" rowspan=\"1\"><span class=\"sortkey\" style=\"display:none\">7000429859173002279♠</span><font style=\"color:green\">+4.30%</font></td>\n",
       " </tr>, <tr>\n",
       " <td align=\"center\">83</td>\n",
       " <td align=\"center\">94</td>\n",
       " <td><a href=\"/wiki/Corner_Brook\" title=\"Corner Brook\">Corner Brook</a> (<a href=\"/wiki/Pasadena,_Newfoundland_and_Labrador\" title=\"Pasadena, Newfoundland and Labrador\">Pasadena</a>)</td>\n",
       " <td><a href=\"/wiki/Newfoundland_and_Labrador\" title=\"Newfoundland and Labrador\">Newfoundland and Labrador</a></td>\n",
       " <td><a href=\"/wiki/Census_geographic_units_of_Canada#Census_agglomerations\" title=\"Census geographic units of Canada\">CA</a></td>\n",
       " <td align=\"right\" bgcolor=\"#F9F9F9\" rowspan=\"1\">31,917</td>\n",
       " <td align=\"right\" bgcolor=\"#F9F9F9\" rowspan=\"1\">31,417</td>\n",
       " <td align=\"right\" bgcolor=\"#F9F9F9\" rowspan=\"1\"><span class=\"sortkey\" style=\"display:none\">7000159149505045040♠</span><font style=\"color:green\">+1.59%</font></td>\n",
       " </tr>, <tr>\n",
       " <td align=\"center\">84</td>\n",
       " <td align=\"center\">85</td>\n",
       " <td><a href=\"/wiki/Owen_Sound\" title=\"Owen Sound\">Owen Sound</a> (<a class=\"mw-redirect\" href=\"/wiki/Georgian_Bluffs,_Ontario\" title=\"Georgian Bluffs, Ontario\">Georgian Bluffs</a>)</td>\n",
       " <td><a href=\"/wiki/Ontario\" title=\"Ontario\">Ontario</a></td>\n",
       " <td><a href=\"/wiki/Census_geographic_units_of_Canada#Census_agglomerations\" title=\"Census geographic units of Canada\">CA</a></td>\n",
       " <td align=\"right\" bgcolor=\"#F9F9F9\" rowspan=\"1\">31,820</td>\n",
       " <td align=\"right\" bgcolor=\"#F9F9F9\" rowspan=\"1\">32,092</td>\n",
       " <td align=\"right\" bgcolor=\"#F9F9F9\" rowspan=\"1\"><span class=\"sortkey\" style=\"display:none\">3000152436744359960♠</span><font style=\"color:red\">−0.85%</font></td>\n",
       " </tr>, <tr>\n",
       " <td align=\"center\">85</td>\n",
       " <td align=\"center\">86</td>\n",
       " <td><a href=\"/wiki/Stratford,_Ontario\" title=\"Stratford, Ontario\">Stratford</a></td>\n",
       " <td><a href=\"/wiki/Ontario\" title=\"Ontario\">Ontario</a></td>\n",
       " <td><a href=\"/wiki/Census_geographic_units_of_Canada#Census_agglomerations\" title=\"Census geographic units of Canada\">CA</a></td>\n",
       " <td align=\"right\" bgcolor=\"#F9F9F9\" rowspan=\"1\">31,465</td>\n",
       " <td align=\"right\" bgcolor=\"#F9F9F9\" rowspan=\"1\">30,903</td>\n",
       " <td align=\"right\" bgcolor=\"#F9F9F9\" rowspan=\"1\"><span class=\"sortkey\" style=\"display:none\">7000181859366404560♠</span><font style=\"color:green\">+1.82%</font></td>\n",
       " </tr>, <tr>\n",
       " <td align=\"center\">86</td>\n",
       " <td align=\"center\">NR</td>\n",
       " <td><a href=\"/wiki/Carleton_Place\" title=\"Carleton Place\">Carleton Place</a> (<a href=\"/wiki/Mississippi_Mills,_Ontario\" title=\"Mississippi Mills, Ontario\">Mississippi Mills</a>, <a href=\"/wiki/Beckwith,_Ontario\" title=\"Beckwith, Ontario\">Beckwith</a>)</td>\n",
       " <td><a href=\"/wiki/Ontario\" title=\"Ontario\">Ontario</a></td>\n",
       " <td><a href=\"/wiki/Census_geographic_units_of_Canada#Census_agglomerations\" title=\"Census geographic units of Canada\">CA</a></td>\n",
       " <td align=\"right\" bgcolor=\"#F9F9F9\" rowspan=\"1\">31,451</td>\n",
       " <td align=\"right\" bgcolor=\"#F9F9F9\" rowspan=\"1\">29,180</td>\n",
       " <td align=\"right\" bgcolor=\"#F9F9F9\" rowspan=\"1\"><span class=\"sortkey\" style=\"display:none\">7000778272789581910♠</span><font style=\"color:green\">+7.78%</font></td>\n",
       " </tr>, <tr>\n",
       " <td align=\"center\">87</td>\n",
       " <td align=\"center\">73</td>\n",
       " <td><a href=\"/wiki/Orillia\" title=\"Orillia\">Orillia</a></td>\n",
       " <td><a href=\"/wiki/Ontario\" title=\"Ontario\">Ontario</a></td>\n",
       " <td><a href=\"/wiki/Census_geographic_units_of_Canada#Census_agglomerations\" title=\"Census geographic units of Canada\">CA</a></td>\n",
       " <td align=\"right\" bgcolor=\"#F9F9F9\" rowspan=\"1\">31,166</td>\n",
       " <td align=\"right\" bgcolor=\"#F9F9F9\" rowspan=\"1\">30,586</td>\n",
       " <td align=\"right\" bgcolor=\"#F9F9F9\" rowspan=\"1\"><span class=\"sortkey\" style=\"display:none\">7000189629242136930♠</span><font style=\"color:green\">+1.90%</font></td>\n",
       " </tr>, <tr>\n",
       " <td align=\"center\">88</td>\n",
       " <td align=\"center\">82</td>\n",
       " <td><a href=\"/wiki/Bathurst,_New_Brunswick\" title=\"Bathurst, New Brunswick\">Bathurst</a> (<a href=\"/wiki/Beresford,_New_Brunswick\" title=\"Beresford, New Brunswick\">Beresford Parish</a>, <a href=\"/wiki/Bathurst_Parish,_New_Brunswick\" title=\"Bathurst Parish, New Brunswick\">Bathurst Parish</a>, <a href=\"/wiki/Beresford,_New_Brunswick\" title=\"Beresford, New Brunswick\">Beresford</a>)</td>\n",
       " <td><a href=\"/wiki/New_Brunswick\" title=\"New Brunswick\">New Brunswick</a></td>\n",
       " <td><a href=\"/wiki/Census_geographic_units_of_Canada#Census_agglomerations\" title=\"Census geographic units of Canada\">CA</a></td>\n",
       " <td align=\"right\" bgcolor=\"#F9F9F9\" rowspan=\"1\">31,110</td>\n",
       " <td align=\"right\" bgcolor=\"#F9F9F9\" rowspan=\"1\">31,936</td>\n",
       " <td align=\"right\" bgcolor=\"#F9F9F9\" rowspan=\"1\"><span class=\"sortkey\" style=\"display:none\">2999741357715430860♠</span><font style=\"color:red\">−2.59%</font></td>\n",
       " </tr>, <tr>\n",
       " <td align=\"center\">89</td>\n",
       " <td align=\"center\">NR</td>\n",
       " <td><a href=\"/wiki/Winkler,_Manitoba\" title=\"Winkler, Manitoba\">Winkler</a> (<a class=\"mw-redirect\" href=\"/wiki/Stanley,_Manitoba\" title=\"Stanley, Manitoba\">Stanley</a>, <a href=\"/wiki/Morden,_Manitoba\" title=\"Morden, Manitoba\">Morden</a>)</td>\n",
       " <td><a href=\"/wiki/Manitoba\" title=\"Manitoba\">Manitoba</a></td>\n",
       " <td><a href=\"/wiki/Census_geographic_units_of_Canada#Census_agglomerations\" title=\"Census geographic units of Canada\">CA</a></td>\n",
       " <td align=\"right\" bgcolor=\"#F9F9F9\" rowspan=\"1\">30,297</td>\n",
       " <td align=\"right\" bgcolor=\"#F9F9F9\" rowspan=\"1\">26,838</td>\n",
       " <td align=\"right\" bgcolor=\"#F9F9F9\" rowspan=\"1\"><span class=\"sortkey\" style=\"display:none\">7001128884417616810♠</span><font style=\"color:green\">+12.89%</font></td>\n",
       " </tr>, <tr>\n",
       " <td align=\"center\">90</td>\n",
       " <td align=\"center\">92</td>\n",
       " <td><a href=\"/wiki/Parksville,_British_Columbia\" title=\"Parksville, British Columbia\">Parksville</a> (<a class=\"mw-redirect\" href=\"/wiki/Qualicum_Beach,_British_Columbia\" title=\"Qualicum Beach, British Columbia\">Qualicum Beach</a>, <a class=\"mw-redirect\" href=\"/wiki/Nanaimo_G,_British_Columbia\" title=\"Nanaimo G, British Columbia\">Nanaimo G</a>)</td>\n",
       " <td><a href=\"/wiki/British_Columbia\" title=\"British Columbia\">British Columbia</a></td>\n",
       " <td><a href=\"/wiki/Census_geographic_units_of_Canada#Census_agglomerations\" title=\"Census geographic units of Canada\">CA</a></td>\n",
       " <td align=\"right\" bgcolor=\"#F9F9F9\" rowspan=\"1\">28,922</td>\n",
       " <td align=\"right\" bgcolor=\"#F9F9F9\" rowspan=\"1\">27,822</td>\n",
       " <td align=\"right\" bgcolor=\"#F9F9F9\" rowspan=\"1\"><span class=\"sortkey\" style=\"display:none\">7000395370570052480♠</span><font style=\"color:green\">+3.95%</font></td>\n",
       " </tr>, <tr>\n",
       " <td align=\"center\">91</td>\n",
       " <td align=\"center\">93</td>\n",
       " <td><a href=\"/wiki/Rivi%C3%A8re-du-Loup\" title=\"Rivière-du-Loup\">Rivière-du-Loup</a> (<a href=\"/wiki/Saint-Antonin,_Quebec\" title=\"Saint-Antonin, Quebec\">Saint-Antonin</a>)</td>\n",
       " <td><a href=\"/wiki/Quebec\" title=\"Quebec\">Quebec</a></td>\n",
       " <td><a href=\"/wiki/Census_geographic_units_of_Canada#Census_agglomerations\" title=\"Census geographic units of Canada\">CA</a></td>\n",
       " <td align=\"right\" bgcolor=\"#F9F9F9\" rowspan=\"1\">28,902</td>\n",
       " <td align=\"right\" bgcolor=\"#F9F9F9\" rowspan=\"1\">28,987</td>\n",
       " <td align=\"right\" bgcolor=\"#F9F9F9\" rowspan=\"1\"><span class=\"sortkey\" style=\"display:none\">3000706765101597270♠</span><font style=\"color:red\">−0.29%</font></td>\n",
       " </tr>, <tr>\n",
       " <td align=\"center\">92</td>\n",
       " <td align=\"center\">101</td>\n",
       " <td><a href=\"/wiki/Okotoks\" title=\"Okotoks\">Okotoks</a></td>\n",
       " <td><a href=\"/wiki/Alberta\" title=\"Alberta\">Alberta</a></td>\n",
       " <td><a href=\"/wiki/Census_geographic_units_of_Canada#Census_agglomerations\" title=\"Census geographic units of Canada\">CA</a></td>\n",
       " <td align=\"right\" bgcolor=\"#F9F9F9\" rowspan=\"1\">28,881</td>\n",
       " <td align=\"right\" bgcolor=\"#F9F9F9\" rowspan=\"1\">24,511</td>\n",
       " <td align=\"right\" bgcolor=\"#F9F9F9\" rowspan=\"1\"><span class=\"sortkey\" style=\"display:none\">7001178287299579779♠</span><font style=\"color:green\">+17.83%</font></td>\n",
       " </tr>, <tr>\n",
       " <td align=\"center\">93</td>\n",
       " <td align=\"center\">89</td>\n",
       " <td><a href=\"/wiki/Sept-%C3%8Eles,_Quebec\" title=\"Sept-Îles, Quebec\">Sept-Îles</a></td>\n",
       " <td><a href=\"/wiki/Quebec\" title=\"Quebec\">Quebec</a></td>\n",
       " <td><a href=\"/wiki/Census_geographic_units_of_Canada#Census_agglomerations\" title=\"Census geographic units of Canada\">CA</a></td>\n",
       " <td align=\"right\" bgcolor=\"#F9F9F9\" rowspan=\"1\">28,534</td>\n",
       " <td align=\"right\" bgcolor=\"#F9F9F9\" rowspan=\"1\">28,487</td>\n",
       " <td align=\"right\" bgcolor=\"#F9F9F9\" rowspan=\"1\"><span class=\"sortkey\" style=\"display:none\">6999164987538175310♠</span><font style=\"color:green\">+0.16%</font></td>\n",
       " </tr>, <tr>\n",
       " <td align=\"center\">94</td>\n",
       " <td align=\"center\">91</td>\n",
       " <td><a href=\"/wiki/Thetford_Mines\" title=\"Thetford Mines\">Thetford Mines</a></td>\n",
       " <td><a href=\"/wiki/Quebec\" title=\"Quebec\">Quebec</a></td>\n",
       " <td><a href=\"/wiki/Census_geographic_units_of_Canada#Census_agglomerations\" title=\"Census geographic units of Canada\">CA</a></td>\n",
       " <td align=\"right\" bgcolor=\"#F9F9F9\" rowspan=\"1\">28,448</td>\n",
       " <td align=\"right\" bgcolor=\"#F9F9F9\" rowspan=\"1\">28,927</td>\n",
       " <td align=\"right\" bgcolor=\"#F9F9F9\" rowspan=\"1\"><span class=\"sortkey\" style=\"display:none\">2999834410758115259♠</span><font style=\"color:red\">−1.66%</font></td>\n",
       " </tr>, <tr>\n",
       " <td align=\"center\">95</td>\n",
       " <td align=\"center\">96</td>\n",
       " <td><a href=\"/wiki/Fort_St._John,_British_Columbia\" title=\"Fort St. John, British Columbia\">Fort St. John</a> (<a href=\"/wiki/Peace_River_C,_British_Columbia\" title=\"Peace River C, British Columbia\">Peace River C</a>)</td>\n",
       " <td><a href=\"/wiki/British_Columbia\" title=\"British Columbia\">British Columbia</a></td>\n",
       " <td><a href=\"/wiki/Census_geographic_units_of_Canada#Census_agglomerations\" title=\"Census geographic units of Canada\">CA</a></td>\n",
       " <td align=\"right\" bgcolor=\"#F9F9F9\" rowspan=\"1\">28,396</td>\n",
       " <td align=\"right\" bgcolor=\"#F9F9F9\" rowspan=\"1\">26,380</td>\n",
       " <td align=\"right\" bgcolor=\"#F9F9F9\" rowspan=\"1\"><span class=\"sortkey\" style=\"display:none\">7000764215314632300♠</span><font style=\"color:green\">+7.64%</font></td>\n",
       " </tr>, <tr>\n",
       " <td align=\"center\">96</td>\n",
       " <td align=\"center\">98</td>\n",
       " <td><a href=\"/wiki/Whitehorse,_Yukon\" title=\"Whitehorse, Yukon\">Whitehorse</a></td>\n",
       " <td><a href=\"/wiki/Yukon\" title=\"Yukon\">Yukon</a></td>\n",
       " <td><a href=\"/wiki/Census_geographic_units_of_Canada#Census_agglomerations\" title=\"Census geographic units of Canada\">CA</a></td>\n",
       " <td align=\"right\" bgcolor=\"#F9F9F9\" rowspan=\"1\">28,225</td>\n",
       " <td align=\"right\" bgcolor=\"#F9F9F9\" rowspan=\"1\">26,028</td>\n",
       " <td align=\"right\" bgcolor=\"#F9F9F9\" rowspan=\"1\"><span class=\"sortkey\" style=\"display:none\">7000844090978945750♠</span><font style=\"color:green\">+8.44%</font></td>\n",
       " </tr>, <tr>\n",
       " <td align=\"center\">97</td>\n",
       " <td align=\"center\">95</td>\n",
       " <td><a class=\"mw-redirect\" href=\"/wiki/Centre_Wellington,_Ontario\" title=\"Centre Wellington, Ontario\">Centre Wellington</a></td>\n",
       " <td><a href=\"/wiki/Ontario\" title=\"Ontario\">Ontario</a></td>\n",
       " <td><a href=\"/wiki/Census_geographic_units_of_Canada#Census_agglomerations\" title=\"Census geographic units of Canada\">CA</a></td>\n",
       " <td align=\"right\" bgcolor=\"#F9F9F9\" rowspan=\"1\">28,191</td>\n",
       " <td align=\"right\" bgcolor=\"#F9F9F9\" rowspan=\"1\">26,693</td>\n",
       " <td align=\"right\" bgcolor=\"#F9F9F9\" rowspan=\"1\"><span class=\"sortkey\" style=\"display:none\">7000561195819128610♠</span><font style=\"color:green\">+5.61%</font></td>\n",
       " </tr>, <tr>\n",
       " <td align=\"center\">98</td>\n",
       " <td align=\"center\">88</td>\n",
       " <td><a href=\"/wiki/Baie-Comeau\" title=\"Baie-Comeau\">Baie-Comeau</a></td>\n",
       " <td><a href=\"/wiki/Quebec\" title=\"Quebec\">Quebec</a></td>\n",
       " <td><a href=\"/wiki/Census_geographic_units_of_Canada#Census_agglomerations\" title=\"Census geographic units of Canada\">CA</a></td>\n",
       " <td align=\"right\" bgcolor=\"#F9F9F9\" rowspan=\"1\">27,692</td>\n",
       " <td align=\"right\" bgcolor=\"#F9F9F9\" rowspan=\"1\">28,465</td>\n",
       " <td align=\"right\" bgcolor=\"#F9F9F9\" rowspan=\"1\"><span class=\"sortkey\" style=\"display:none\">2999728438433163530♠</span><font style=\"color:red\">−2.72%</font></td>\n",
       " </tr>, <tr>\n",
       " <td align=\"center\">99</td>\n",
       " <td align=\"center\">90</td>\n",
       " <td><a href=\"/wiki/Miramichi,_New_Brunswick\" title=\"Miramichi, New Brunswick\">Miramichi</a></td>\n",
       " <td><a href=\"/wiki/New_Brunswick\" title=\"New Brunswick\">New Brunswick</a></td>\n",
       " <td><a href=\"/wiki/Census_geographic_units_of_Canada#Census_agglomerations\" title=\"Census geographic units of Canada\">CA</a></td>\n",
       " <td align=\"right\" bgcolor=\"#F9F9F9\" rowspan=\"1\">27,523</td>\n",
       " <td align=\"right\" bgcolor=\"#F9F9F9\" rowspan=\"1\">28,115</td>\n",
       " <td align=\"right\" bgcolor=\"#F9F9F9\" rowspan=\"1\"><span class=\"sortkey\" style=\"display:none\">2999789436243997870♠</span><font style=\"color:red\">−2.11%</font></td>\n",
       " </tr>, <tr>\n",
       " <td align=\"center\">100</td>\n",
       " <td align=\"center\">97</td>\n",
       " <td><a class=\"mw-redirect\" href=\"/wiki/Kentville,_Nova_Scotia\" title=\"Kentville, Nova Scotia\">Kentville</a> (<a href=\"/wiki/Kings_County,_Nova_Scotia\" title=\"Kings County, Nova Scotia\">Kings, Subd. B &amp; C</a>)</td>\n",
       " <td><a href=\"/wiki/Nova_Scotia\" title=\"Nova Scotia\">Nova Scotia</a></td>\n",
       " <td><a href=\"/wiki/Census_geographic_units_of_Canada#Census_agglomerations\" title=\"Census geographic units of Canada\">CA</a></td>\n",
       " <td align=\"right\" bgcolor=\"#F9F9F9\" rowspan=\"1\">26,222</td>\n",
       " <td align=\"right\" bgcolor=\"#F9F9F9\" rowspan=\"1\">26,359</td>\n",
       " <td align=\"right\" bgcolor=\"#F9F9F9\" rowspan=\"1\"><span class=\"sortkey\" style=\"display:none\">3000480253423877999♠</span><font style=\"color:red\">−0.52%</font></td>\n",
       " </tr>, <tr>\n",
       " <td align=\"center\">101</td>\n",
       " <td align=\"center\">100</td>\n",
       " <td><a href=\"/wiki/Cranbrook,_British_Columbia\" title=\"Cranbrook, British Columbia\">Cranbrook</a> (<a href=\"/wiki/Regional_District_of_East_Kootenay\" title=\"Regional District of East Kootenay\">East Kootenay C</a>)</td>\n",
       " <td><a href=\"/wiki/British_Columbia\" title=\"British Columbia\">British Columbia</a></td>\n",
       " <td><a href=\"/wiki/Census_geographic_units_of_Canada#Census_agglomerations\" title=\"Census geographic units of Canada\">CA</a></td>\n",
       " <td align=\"right\" bgcolor=\"#F9F9F9\" rowspan=\"1\">26,083</td>\n",
       " <td align=\"right\" bgcolor=\"#F9F9F9\" rowspan=\"1\">25,037</td>\n",
       " <td align=\"right\" bgcolor=\"#F9F9F9\" rowspan=\"1\"><span class=\"sortkey\" style=\"display:none\">7000417781683109000♠</span><font style=\"color:green\">+4.18%</font></td>\n",
       " </tr>, <tr>\n",
       " <td align=\"center\">102</td>\n",
       " <td align=\"center\">99</td>\n",
       " <td><a href=\"/wiki/Port_Alberni\" title=\"Port Alberni\">Port Alberni</a> (<a href=\"/wiki/Alberni-Clayoquot_Regional_District\" title=\"Alberni-Clayoquot Regional District\">Alberni-Clayoquot E</a>)</td>\n",
       " <td><a href=\"/wiki/British_Columbia\" title=\"British Columbia\">British Columbia</a></td>\n",
       " <td><a href=\"/wiki/Census_geographic_units_of_Canada#Census_agglomerations\" title=\"Census geographic units of Canada\">CA</a></td>\n",
       " <td align=\"right\" bgcolor=\"#F9F9F9\" rowspan=\"1\">25,112</td>\n",
       " <td align=\"right\" bgcolor=\"#F9F9F9\" rowspan=\"1\">25,465</td>\n",
       " <td align=\"right\" bgcolor=\"#F9F9F9\" rowspan=\"1\"><span class=\"sortkey\" style=\"display:none\">2999861378362458280♠</span><font style=\"color:red\">−1.39%</font></td>\n",
       " </tr>, <tr>\n",
       " <td align=\"center\">103</td>\n",
       " <td align=\"center\">103</td>\n",
       " <td><a href=\"/wiki/Brooks,_Alberta\" title=\"Brooks, Alberta\">Brooks</a> (<a class=\"mw-redirect\" href=\"/wiki/Newell_County\" title=\"Newell County\">Newell County</a>)</td>\n",
       " <td><a href=\"/wiki/Alberta\" title=\"Alberta\">Alberta</a></td>\n",
       " <td><a href=\"/wiki/Census_geographic_units_of_Canada#Census_agglomerations\" title=\"Census geographic units of Canada\">CA</a></td>\n",
       " <td align=\"right\" bgcolor=\"#F9F9F9\" rowspan=\"1\">24,662</td>\n",
       " <td align=\"right\" bgcolor=\"#F9F9F9\" rowspan=\"1\">23,430</td>\n",
       " <td align=\"right\" bgcolor=\"#F9F9F9\" rowspan=\"1\"><span class=\"sortkey\" style=\"display:none\">7000525821596244130♠</span><font style=\"color:green\">+5.26%</font></td>\n",
       " </tr>, <tr>\n",
       " <td align=\"center\">104</td>\n",
       " <td align=\"center\">105</td>\n",
       " <td><a href=\"/wiki/Edmundston\" title=\"Edmundston\">Edmundston</a></td>\n",
       " <td><a href=\"/wiki/New_Brunswick\" title=\"New Brunswick\">New Brunswick</a></td>\n",
       " <td><a href=\"/wiki/Census_geographic_units_of_Canada#Census_agglomerations\" title=\"Census geographic units of Canada\">CA</a></td>\n",
       " <td align=\"right\" bgcolor=\"#F9F9F9\" rowspan=\"1\">23,524</td>\n",
       " <td align=\"right\" bgcolor=\"#F9F9F9\" rowspan=\"1\">23,819</td>\n",
       " <td align=\"right\" bgcolor=\"#F9F9F9\" rowspan=\"1\"><span class=\"sortkey\" style=\"display:none\">2999876149292581550♠</span><font style=\"color:red\">−1.24%</font></td>\n",
       " </tr>, <tr>\n",
       " <td align=\"center\">105</td>\n",
       " <td align=\"center\">102</td>\n",
       " <td><a href=\"/wiki/Pembroke,_Ontario\" title=\"Pembroke, Ontario\">Pembroke</a> (<a href=\"/wiki/Laurentian_Valley\" title=\"Laurentian Valley\">Laurentian Valley</a>)</td>\n",
       " <td><a href=\"/wiki/Ontario\" title=\"Ontario\">Ontario</a></td>\n",
       " <td><a href=\"/wiki/Census_geographic_units_of_Canada#Census_agglomerations\" title=\"Census geographic units of Canada\">CA</a></td>\n",
       " <td align=\"right\" bgcolor=\"#F9F9F9\" rowspan=\"1\">23,269</td>\n",
       " <td align=\"right\" bgcolor=\"#F9F9F9\" rowspan=\"1\">24,017</td>\n",
       " <td align=\"right\" bgcolor=\"#F9F9F9\" rowspan=\"1\"><span class=\"sortkey\" style=\"display:none\">2999688553940958490♠</span><font style=\"color:red\">−3.11%</font></td>\n",
       " </tr>, <tr>\n",
       " <td align=\"center\">106</td>\n",
       " <td align=\"center\">104</td>\n",
       " <td><a href=\"/wiki/Quesnel,_British_Columbia\" title=\"Quesnel, British Columbia\">Quesnel</a> (<a href=\"/wiki/Cariboo_Regional_District\" title=\"Cariboo Regional District\">Cariboo A &amp; B</a>)</td>\n",
       " <td><a href=\"/wiki/British_Columbia\" title=\"British Columbia\">British Columbia</a></td>\n",
       " <td><a href=\"/wiki/Census_geographic_units_of_Canada#Census_agglomerations\" title=\"Census geographic units of Canada\">CA</a></td>\n",
       " <td align=\"right\" bgcolor=\"#F9F9F9\" rowspan=\"1\">23,146</td>\n",
       " <td align=\"right\" bgcolor=\"#F9F9F9\" rowspan=\"1\">23,566</td>\n",
       " <td align=\"right\" bgcolor=\"#F9F9F9\" rowspan=\"1\"><span class=\"sortkey\" style=\"display:none\">2999821777136552660♠</span><font style=\"color:red\">−1.78%</font></td>\n",
       " </tr>, <tr>\n",
       " <td align=\"center\">107</td>\n",
       " <td align=\"center\">106</td>\n",
       " <td><a href=\"/wiki/Collingwood,_Ontario\" title=\"Collingwood, Ontario\">Collingwood</a></td>\n",
       " <td><a href=\"/wiki/Ontario\" title=\"Ontario\">Ontario</a></td>\n",
       " <td><a href=\"/wiki/Census_geographic_units_of_Canada#Census_agglomerations\" title=\"Census geographic units of Canada\">CA</a></td>\n",
       " <td align=\"right\" bgcolor=\"#F9F9F9\" rowspan=\"1\">21,793</td>\n",
       " <td align=\"right\" bgcolor=\"#F9F9F9\" rowspan=\"1\">19,241</td>\n",
       " <td align=\"right\" bgcolor=\"#F9F9F9\" rowspan=\"1\"><span class=\"sortkey\" style=\"display:none\">7001132633439010450♠</span><font style=\"color:green\">+13.26%</font></td>\n",
       " </tr>, <tr>\n",
       " <td align=\"center\">108</td>\n",
       " <td align=\"center\">NR</td>\n",
       " <td><a href=\"/wiki/Wasaga_Beach\" title=\"Wasaga Beach\">Wasaga Beach</a></td>\n",
       " <td><a href=\"/wiki/Ontario\" title=\"Ontario\">Ontario</a></td>\n",
       " <td><a href=\"/wiki/Census_geographic_units_of_Canada#Census_agglomerations\" title=\"Census geographic units of Canada\">CA</a></td>\n",
       " <td align=\"right\" bgcolor=\"#F9F9F9\" rowspan=\"1\">20,675</td>\n",
       " <td align=\"right\" bgcolor=\"#F9F9F9\" rowspan=\"1\">17,537</td>\n",
       " <td align=\"right\" bgcolor=\"#F9F9F9\" rowspan=\"1\"><span class=\"sortkey\" style=\"display:none\">7001178935963961910♠</span><font style=\"color:green\">+17.89%</font></td>\n",
       " </tr>, <tr>\n",
       " <td align=\"center\">109</td>\n",
       " <td align=\"center\">116</td>\n",
       " <td><a href=\"/wiki/Squamish,_British_Columbia\" title=\"Squamish, British Columbia\">Squamish</a></td>\n",
       " <td><a href=\"/wiki/British_Columbia\" title=\"British Columbia\">British Columbia</a></td>\n",
       " <td><a href=\"/wiki/Census_geographic_units_of_Canada#Census_agglomerations\" title=\"Census geographic units of Canada\">CA</a></td>\n",
       " <td align=\"right\" bgcolor=\"#F9F9F9\" rowspan=\"1\">19,893</td>\n",
       " <td align=\"right\" bgcolor=\"#F9F9F9\" rowspan=\"1\">17,479</td>\n",
       " <td align=\"right\" bgcolor=\"#F9F9F9\" rowspan=\"1\"><span class=\"sortkey\" style=\"display:none\">7001138108587447790♠</span><font style=\"color:green\">+13.81%</font></td>\n",
       " </tr>, <tr>\n",
       " <td align=\"center\">110</td>\n",
       " <td align=\"center\">108</td>\n",
       " <td><a href=\"/wiki/North_Battleford\" title=\"North Battleford\">North Battleford</a> (<a href=\"/wiki/Battleford\" title=\"Battleford\">Battleford</a>)</td>\n",
       " <td><a href=\"/wiki/Saskatchewan\" title=\"Saskatchewan\">Saskatchewan</a></td>\n",
       " <td><a href=\"/wiki/Census_geographic_units_of_Canada#Census_agglomerations\" title=\"Census geographic units of Canada\">CA</a></td>\n",
       " <td align=\"right\" bgcolor=\"#F9F9F9\" rowspan=\"1\">19,623</td>\n",
       " <td align=\"right\" bgcolor=\"#F9F9F9\" rowspan=\"1\">18,850</td>\n",
       " <td align=\"right\" bgcolor=\"#F9F9F9\" rowspan=\"1\"><span class=\"sortkey\" style=\"display:none\">7000410079575596820♠</span><font style=\"color:green\">+4.10%</font></td>\n",
       " </tr>, <tr>\n",
       " <td align=\"center\">111</td>\n",
       " <td align=\"center\">107</td>\n",
       " <td><a href=\"/wiki/Yellowknife\" title=\"Yellowknife\">Yellowknife</a></td>\n",
       " <td><a href=\"/wiki/Northwest_Territories\" title=\"Northwest Territories\">Northwest Territories</a></td>\n",
       " <td><a href=\"/wiki/Census_geographic_units_of_Canada#Census_agglomerations\" title=\"Census geographic units of Canada\">CA</a></td>\n",
       " <td align=\"right\" bgcolor=\"#F9F9F9\" rowspan=\"1\">19,569</td>\n",
       " <td align=\"right\" bgcolor=\"#F9F9F9\" rowspan=\"1\">19,234</td>\n",
       " <td align=\"right\" bgcolor=\"#F9F9F9\" rowspan=\"1\"><span class=\"sortkey\" style=\"display:none\">7000174170739315800♠</span><font style=\"color:green\">+1.74%</font></td>\n",
       " </tr>, <tr>\n",
       " <td align=\"center\">112</td>\n",
       " <td align=\"center\">109</td>\n",
       " <td><a href=\"/wiki/Cobourg\" title=\"Cobourg\">Cobourg</a></td>\n",
       " <td><a href=\"/wiki/Ontario\" title=\"Ontario\">Ontario</a></td>\n",
       " <td><a href=\"/wiki/Census_geographic_units_of_Canada#Census_agglomerations\" title=\"Census geographic units of Canada\">CA</a></td>\n",
       " <td align=\"right\" bgcolor=\"#F9F9F9\" rowspan=\"1\">19,440</td>\n",
       " <td align=\"right\" bgcolor=\"#F9F9F9\" rowspan=\"1\">18,519</td>\n",
       " <td align=\"right\" bgcolor=\"#F9F9F9\" rowspan=\"1\"><span class=\"sortkey\" style=\"display:none\">7000497327069496190♠</span><font style=\"color:green\">+4.97%</font></td>\n",
       " </tr>, <tr>\n",
       " <td align=\"center\">113</td>\n",
       " <td align=\"center\">112</td>\n",
       " <td><a href=\"/wiki/Yorkton\" title=\"Yorkton\">Yorkton</a></td>\n",
       " <td><a href=\"/wiki/Saskatchewan\" title=\"Saskatchewan\">Saskatchewan</a></td>\n",
       " <td><a href=\"/wiki/Census_geographic_units_of_Canada#Census_agglomerations\" title=\"Census geographic units of Canada\">CA</a></td>\n",
       " <td align=\"right\" bgcolor=\"#F9F9F9\" rowspan=\"1\">18,905</td>\n",
       " <td align=\"right\" bgcolor=\"#F9F9F9\" rowspan=\"1\">18,238</td>\n",
       " <td align=\"right\" bgcolor=\"#F9F9F9\" rowspan=\"1\"><span class=\"sortkey\" style=\"display:none\">7000365719925430420♠</span><font style=\"color:green\">+3.66%</font></td>\n",
       " </tr>, <tr>\n",
       " <td align=\"center\">114</td>\n",
       " <td align=\"center\">117</td>\n",
       " <td><a href=\"/wiki/Camrose,_Alberta\" title=\"Camrose, Alberta\">Camrose</a></td>\n",
       " <td><a href=\"/wiki/Alberta\" title=\"Alberta\">Alberta</a></td>\n",
       " <td><a href=\"/wiki/Census_geographic_units_of_Canada#Census_agglomerations\" title=\"Census geographic units of Canada\">CA</a></td>\n",
       " <td align=\"right\" bgcolor=\"#F9F9F9\" rowspan=\"1\">18,742</td>\n",
       " <td align=\"right\" bgcolor=\"#F9F9F9\" rowspan=\"1\">17,286</td>\n",
       " <td align=\"right\" bgcolor=\"#F9F9F9\" rowspan=\"1\"><span class=\"sortkey\" style=\"display:none\">7000842300127270620♠</span><font style=\"color:green\">+8.42%</font></td>\n",
       " </tr>, <tr>\n",
       " <td align=\"center\">115</td>\n",
       " <td align=\"center\">115</td>\n",
       " <td><a href=\"/wiki/Swift_Current\" title=\"Swift Current\">Swift Current</a> (<a class=\"mw-redirect\" href=\"/wiki/Swift_Current_No._137,_Saskatchewan\" title=\"Swift Current No. 137, Saskatchewan\">Swift Current No. 137</a>)</td>\n",
       " <td><a href=\"/wiki/Saskatchewan\" title=\"Saskatchewan\">Saskatchewan</a></td>\n",
       " <td><a href=\"/wiki/Census_geographic_units_of_Canada#Census_agglomerations\" title=\"Census geographic units of Canada\">CA</a></td>\n",
       " <td align=\"right\" bgcolor=\"#F9F9F9\" rowspan=\"1\">18,536</td>\n",
       " <td align=\"right\" bgcolor=\"#F9F9F9\" rowspan=\"1\">17,535</td>\n",
       " <td align=\"right\" bgcolor=\"#F9F9F9\" rowspan=\"1\"><span class=\"sortkey\" style=\"display:none\">7000570858283433130♠</span><font style=\"color:green\">+5.71%</font></td>\n",
       " </tr>, <tr>\n",
       " <td align=\"center\">116</td>\n",
       " <td align=\"center\">NR</td>\n",
       " <td><a href=\"/wiki/Nelson,_British_Columbia\" title=\"Nelson, British Columbia\">Nelson</a> (<a class=\"mw-redirect\" href=\"/wiki/Central_Kootenay_Regional_District\" title=\"Central Kootenay Regional District\">Central Kootenay F &amp; E</a>)</td>\n",
       " <td><a href=\"/wiki/British_Columbia\" title=\"British Columbia\">British Columbia</a></td>\n",
       " <td><a href=\"/wiki/Census_geographic_units_of_Canada#Census_agglomerations\" title=\"Census geographic units of Canada\">CA</a></td>\n",
       " <td align=\"right\" bgcolor=\"#F9F9F9\" rowspan=\"1\">18,307</td>\n",
       " <td align=\"right\" bgcolor=\"#F9F9F9\" rowspan=\"1\">17,987</td>\n",
       " <td align=\"right\" bgcolor=\"#F9F9F9\" rowspan=\"1\"><span class=\"sortkey\" style=\"display:none\">7000177906265636290♠</span><font style=\"color:green\">+1.78%</font></td>\n",
       " </tr>, <tr>\n",
       " <td align=\"center\">117</td>\n",
       " <td align=\"center\">110</td>\n",
       " <td><a href=\"/wiki/Williams_Lake,_British_Columbia\" title=\"Williams Lake, British Columbia\">Williams Lake</a> (<a href=\"/wiki/Cariboo_Regional_District\" title=\"Cariboo Regional District\">Cariboo D &amp; E</a>)</td>\n",
       " <td><a href=\"/wiki/British_Columbia\" title=\"British Columbia\">British Columbia</a></td>\n",
       " <td><a href=\"/wiki/Census_geographic_units_of_Canada#Census_agglomerations\" title=\"Census geographic units of Canada\">CA</a></td>\n",
       " <td align=\"right\" bgcolor=\"#F9F9F9\" rowspan=\"1\">18,277</td>\n",
       " <td align=\"right\" bgcolor=\"#F9F9F9\" rowspan=\"1\">18,490</td>\n",
       " <td align=\"right\" bgcolor=\"#F9F9F9\" rowspan=\"1\"><span class=\"sortkey\" style=\"display:none\">2999884802595997840♠</span><font style=\"color:red\">−1.15%</font></td>\n",
       " </tr>, <tr>\n",
       " <td align=\"center\">118</td>\n",
       " <td align=\"center\">111</td>\n",
       " <td><a href=\"/wiki/Matane\" title=\"Matane\">Matane</a></td>\n",
       " <td><a href=\"/wiki/Quebec\" title=\"Quebec\">Quebec</a></td>\n",
       " <td><a href=\"/wiki/Census_geographic_units_of_Canada#Census_agglomerations\" title=\"Census geographic units of Canada\">CA</a></td>\n",
       " <td align=\"right\" bgcolor=\"#F9F9F9\" rowspan=\"1\">17,926</td>\n",
       " <td align=\"right\" bgcolor=\"#F9F9F9\" rowspan=\"1\">18,368</td>\n",
       " <td align=\"right\" bgcolor=\"#F9F9F9\" rowspan=\"1\"><span class=\"sortkey\" style=\"display:none\">2999759364111498260♠</span><font style=\"color:red\">−2.41%</font></td>\n",
       " </tr>, <tr>\n",
       " <td align=\"center\">119</td>\n",
       " <td align=\"center\">114</td>\n",
       " <td><a href=\"/wiki/Salmon_Arm\" title=\"Salmon Arm\">Salmon Arm</a></td>\n",
       " <td><a href=\"/wiki/British_Columbia\" title=\"British Columbia\">British Columbia</a></td>\n",
       " <td><a href=\"/wiki/Census_geographic_units_of_Canada#Census_agglomerations\" title=\"Census geographic units of Canada\">CA</a></td>\n",
       " <td align=\"right\" bgcolor=\"#F9F9F9\" rowspan=\"1\">17,904</td>\n",
       " <td align=\"right\" bgcolor=\"#F9F9F9\" rowspan=\"1\">17,683</td>\n",
       " <td align=\"right\" bgcolor=\"#F9F9F9\" rowspan=\"1\"><span class=\"sortkey\" style=\"display:none\">7000124978793191200♠</span><font style=\"color:green\">+1.25%</font></td>\n",
       " </tr>, <tr>\n",
       " <td align=\"center\">120</td>\n",
       " <td align=\"center\">123</td>\n",
       " <td><a href=\"/wiki/Petawawa\" title=\"Petawawa\">Petawawa</a></td>\n",
       " <td><a href=\"/wiki/Ontario\" title=\"Ontario\">Ontario</a></td>\n",
       " <td><a href=\"/wiki/Census_geographic_units_of_Canada#Census_agglomerations\" title=\"Census geographic units of Canada\">CA</a></td>\n",
       " <td align=\"right\" bgcolor=\"#F9F9F9\" rowspan=\"1\">17,187</td>\n",
       " <td align=\"right\" bgcolor=\"#F9F9F9\" rowspan=\"1\">15,988</td>\n",
       " <td align=\"right\" bgcolor=\"#F9F9F9\" rowspan=\"1\"><span class=\"sortkey\" style=\"display:none\">7000749937453089820♠</span><font style=\"color:green\">+7.50%</font></td>\n",
       " </tr>, <tr>\n",
       " <td align=\"center\">121</td>\n",
       " <td align=\"center\">119</td>\n",
       " <td><a href=\"/wiki/Powell_River,_British_Columbia\" title=\"Powell River, British Columbia\">Powell River</a> (<a href=\"/wiki/Powell_River_Regional_District\" title=\"Powell River Regional District\">Powell River C</a>)</td>\n",
       " <td><a href=\"/wiki/British_Columbia\" title=\"British Columbia\">British Columbia</a></td>\n",
       " <td><a href=\"/wiki/Census_geographic_units_of_Canada#Census_agglomerations\" title=\"Census geographic units of Canada\">CA</a></td>\n",
       " <td align=\"right\" bgcolor=\"#F9F9F9\" rowspan=\"1\">16,783</td>\n",
       " <td align=\"right\" bgcolor=\"#F9F9F9\" rowspan=\"1\">16,689</td>\n",
       " <td align=\"right\" bgcolor=\"#F9F9F9\" rowspan=\"1\"><span class=\"sortkey\" style=\"display:none\">6999563245251363180♠</span><font style=\"color:green\">+0.56%</font></td>\n",
       " </tr>, <tr>\n",
       " <td align=\"center\">122</td>\n",
       " <td align=\"center\">121</td>\n",
       " <td><a href=\"/wiki/Port_Hope,_Ontario\" title=\"Port Hope, Ontario\">Port Hope</a></td>\n",
       " <td><a href=\"/wiki/Ontario\" title=\"Ontario\">Ontario</a></td>\n",
       " <td><a href=\"/wiki/Census_geographic_units_of_Canada#Census_agglomerations\" title=\"Census geographic units of Canada\">CA</a></td>\n",
       " <td align=\"right\" bgcolor=\"#F9F9F9\" rowspan=\"1\">16,753</td>\n",
       " <td align=\"right\" bgcolor=\"#F9F9F9\" rowspan=\"1\">16,214</td>\n",
       " <td align=\"right\" bgcolor=\"#F9F9F9\" rowspan=\"1\"><span class=\"sortkey\" style=\"display:none\">7000332428765264590♠</span><font style=\"color:green\">+3.32%</font></td>\n",
       " </tr>, <tr>\n",
       " <td align=\"center\">123</td>\n",
       " <td align=\"center\">120</td>\n",
       " <td><a href=\"/wiki/Summerside,_Prince_Edward_Island\" title=\"Summerside, Prince Edward Island\">Summerside</a></td>\n",
       " <td><a href=\"/wiki/Prince_Edward_Island\" title=\"Prince Edward Island\">Prince Edward Island</a></td>\n",
       " <td><a href=\"/wiki/Census_geographic_units_of_Canada#Census_agglomerations\" title=\"Census geographic units of Canada\">CA</a></td>\n",
       " <td align=\"right\" bgcolor=\"#F9F9F9\" rowspan=\"1\">16,587</td>\n",
       " <td align=\"right\" bgcolor=\"#F9F9F9\" rowspan=\"1\">16,488</td>\n",
       " <td align=\"right\" bgcolor=\"#F9F9F9\" rowspan=\"1\"><span class=\"sortkey\" style=\"display:none\">6999600436681222720♠</span><font style=\"color:green\">+0.60%</font></td>\n",
       " </tr>, <tr>\n",
       " <td align=\"center\">124</td>\n",
       " <td align=\"center\">NR</td>\n",
       " <td><a class=\"mw-redirect\" href=\"/wiki/Arnprior,_Ontario\" title=\"Arnprior, Ontario\">Arnprior</a> (<a href=\"/wiki/McNab/Braeside\" title=\"McNab/Braeside\">McNab/Braeside</a>)</td>\n",
       " <td><a href=\"/wiki/Ontario\" title=\"Ontario\">Ontario</a></td>\n",
       " <td><a href=\"/wiki/Census_geographic_units_of_Canada#Census_agglomerations\" title=\"Census geographic units of Canada\">CA</a></td>\n",
       " <td align=\"right\" bgcolor=\"#F9F9F9\" rowspan=\"1\">15,973</td>\n",
       " <td align=\"right\" bgcolor=\"#F9F9F9\" rowspan=\"1\">15,485</td>\n",
       " <td align=\"right\" bgcolor=\"#F9F9F9\" rowspan=\"1\"><span class=\"sortkey\" style=\"display:none\">7000315143687439460♠</span><font style=\"color:green\">+3.15%</font></td>\n",
       " </tr>, <tr>\n",
       " <td align=\"center\">125</td>\n",
       " <td align=\"center\">126</td>\n",
       " <td><a href=\"/wiki/Tillsonburg\" title=\"Tillsonburg\">Tillsonburg</a></td>\n",
       " <td><a href=\"/wiki/Ontario\" title=\"Ontario\">Ontario</a></td>\n",
       " <td><a href=\"/wiki/Census_geographic_units_of_Canada#Census_agglomerations\" title=\"Census geographic units of Canada\">CA</a></td>\n",
       " <td align=\"right\" bgcolor=\"#F9F9F9\" rowspan=\"1\">15,872</td>\n",
       " <td align=\"right\" bgcolor=\"#F9F9F9\" rowspan=\"1\">15,301</td>\n",
       " <td align=\"right\" bgcolor=\"#F9F9F9\" rowspan=\"1\"><span class=\"sortkey\" style=\"display:none\">7000373178223645510♠</span><font style=\"color:green\">+3.73%</font></td>\n",
       " </tr>, <tr>\n",
       " <td align=\"center\">126</td>\n",
       " <td align=\"center\">130</td>\n",
       " <td><a href=\"/wiki/Steinbach,_Manitoba\" title=\"Steinbach, Manitoba\">Steinbach</a></td>\n",
       " <td><a href=\"/wiki/Manitoba\" title=\"Manitoba\">Manitoba</a></td>\n",
       " <td><a href=\"/wiki/Census_geographic_units_of_Canada#Census_agglomerations\" title=\"Census geographic units of Canada\">CA</a></td>\n",
       " <td align=\"right\" bgcolor=\"#F9F9F9\" rowspan=\"1\">15,829</td>\n",
       " <td align=\"right\" bgcolor=\"#F9F9F9\" rowspan=\"1\">13,524</td>\n",
       " <td align=\"right\" bgcolor=\"#F9F9F9\" rowspan=\"1\"><span class=\"sortkey\" style=\"display:none\">7001170437740313520♠</span><font style=\"color:green\">+17.04%</font></td>\n",
       " </tr>, <tr>\n",
       " <td align=\"center\">127</td>\n",
       " <td align=\"center\">113</td>\n",
       " <td><a href=\"/wiki/Campbellton,_New_Brunswick\" title=\"Campbellton, New Brunswick\">Campbellton, New Brunswick</a> (<a href=\"/wiki/Atholville,_New_Brunswick\" title=\"Atholville, New Brunswick\">Atholville</a>)</td>\n",
       " <td><a href=\"/wiki/New_Brunswick\" title=\"New Brunswick\">New Brunswick</a></td>\n",
       " <td><a href=\"/wiki/Census_geographic_units_of_Canada#Census_agglomerations\" title=\"Census geographic units of Canada\">CA</a></td>\n",
       " <td align=\"right\" bgcolor=\"#F9F9F9\" rowspan=\"1\">15,746</td>\n",
       " <td align=\"right\" bgcolor=\"#F9F9F9\" rowspan=\"1\">17,361</td>\n",
       " <td align=\"right\" bgcolor=\"#F9F9F9\" rowspan=\"1\"><span class=\"sortkey\" style=\"display:none\">2999069754046425899♠</span><font style=\"color:red\">−9.30%</font></td>\n",
       " </tr>, <tr>\n",
       " <td align=\"center\">128</td>\n",
       " <td align=\"center\">124</td>\n",
       " <td><a href=\"/wiki/Terrace,_British_Columbia\" title=\"Terrace, British Columbia\">Terrace</a> (<a href=\"/wiki/Regional_District_of_Kitimat-Stikine\" title=\"Regional District of Kitimat-Stikine\">Kitimat-Stikine E</a>)</td>\n",
       " <td><a href=\"/wiki/British_Columbia\" title=\"British Columbia\">British Columbia</a></td>\n",
       " <td><a href=\"/wiki/Census_geographic_units_of_Canada#Census_agglomerations\" title=\"Census geographic units of Canada\">CA</a></td>\n",
       " <td align=\"right\" bgcolor=\"#F9F9F9\" rowspan=\"1\">15,723</td>\n",
       " <td align=\"right\" bgcolor=\"#F9F9F9\" rowspan=\"1\">15,569</td>\n",
       " <td align=\"right\" bgcolor=\"#F9F9F9\" rowspan=\"1\"><span class=\"sortkey\" style=\"display:none\">6999989145096024150♠</span><font style=\"color:green\">+0.99%</font></td>\n",
       " </tr>, <tr>\n",
       " <td align=\"center\">129</td>\n",
       " <td align=\"center\">122</td>\n",
       " <td><a href=\"/wiki/Dolbeau-Mistassini\" title=\"Dolbeau-Mistassini\">Dolbeau-Mistassini</a></td>\n",
       " <td><a href=\"/wiki/Quebec\" title=\"Quebec\">Quebec</a></td>\n",
       " <td><a href=\"/wiki/Census_geographic_units_of_Canada#Census_agglomerations\" title=\"Census geographic units of Canada\">CA</a></td>\n",
       " <td align=\"right\" bgcolor=\"#F9F9F9\" rowspan=\"1\">15,673</td>\n",
       " <td align=\"right\" bgcolor=\"#F9F9F9\" rowspan=\"1\">15,826</td>\n",
       " <td align=\"right\" bgcolor=\"#F9F9F9\" rowspan=\"1\"><span class=\"sortkey\" style=\"display:none\">3000033236446354099♠</span><font style=\"color:red\">−0.97%</font></td>\n",
       " </tr>, <tr>\n",
       " <td align=\"center\">130</td>\n",
       " <td align=\"center\">136</td>\n",
       " <td><a href=\"/wiki/Sylvan_Lake,_Alberta\" title=\"Sylvan Lake, Alberta\">Sylvan Lake</a></td>\n",
       " <td><a href=\"/wiki/Alberta\" title=\"Alberta\">Alberta</a></td>\n",
       " <td><a href=\"/wiki/Census_geographic_units_of_Canada#Census_agglomerations\" title=\"Census geographic units of Canada\">CA</a></td>\n",
       " <td align=\"right\" bgcolor=\"#F9F9F9\" rowspan=\"1\">15,302</td>\n",
       " <td align=\"right\" bgcolor=\"#F9F9F9\" rowspan=\"1\">12,797</td>\n",
       " <td align=\"right\" bgcolor=\"#F9F9F9\" rowspan=\"1\"><span class=\"sortkey\" style=\"display:none\">7001195749003672740♠</span><font style=\"color:green\">+19.57%</font></td>\n",
       " </tr>, <tr>\n",
       " <td align=\"center\">131</td>\n",
       " <td align=\"center\">125</td>\n",
       " <td><a href=\"/wiki/Kenora\" title=\"Kenora\">Kenora</a></td>\n",
       " <td><a href=\"/wiki/Ontario\" title=\"Ontario\">Ontario</a></td>\n",
       " <td><a href=\"/wiki/Census_geographic_units_of_Canada#Census_agglomerations\" title=\"Census geographic units of Canada\">CA</a></td>\n",
       " <td align=\"right\" bgcolor=\"#F9F9F9\" rowspan=\"1\">15,096</td>\n",
       " <td align=\"right\" bgcolor=\"#F9F9F9\" rowspan=\"1\">15,348</td>\n",
       " <td align=\"right\" bgcolor=\"#F9F9F9\" rowspan=\"1\"><span class=\"sortkey\" style=\"display:none\">2999835809225957780♠</span><font style=\"color:red\">−1.64%</font></td>\n",
       " </tr>, <tr>\n",
       " <td align=\"center\">132</td>\n",
       " <td align=\"center\">127</td>\n",
       " <td><a href=\"/wiki/Cold_Lake,_Alberta\" title=\"Cold Lake, Alberta\">Cold Lake</a></td>\n",
       " <td><a href=\"/wiki/Alberta\" title=\"Alberta\">Alberta</a></td>\n",
       " <td><a href=\"/wiki/Census_geographic_units_of_Canada#Census_agglomerations\" title=\"Census geographic units of Canada\">CA</a></td>\n",
       " <td align=\"right\" bgcolor=\"#F9F9F9\" rowspan=\"1\">14,961</td>\n",
       " <td align=\"right\" bgcolor=\"#F9F9F9\" rowspan=\"1\">13,839</td>\n",
       " <td align=\"right\" bgcolor=\"#F9F9F9\" rowspan=\"1\"><span class=\"sortkey\" style=\"display:none\">7000810752221981360♠</span><font style=\"color:green\">+8.11%</font></td>\n",
       " </tr>, <tr>\n",
       " <td align=\"center\">133</td>\n",
       " <td align=\"center\">128</td>\n",
       " <td><a href=\"/wiki/Grand_Falls-Windsor\" title=\"Grand Falls-Windsor\">Grand Falls-Windsor</a></td>\n",
       " <td><a href=\"/wiki/Newfoundland_and_Labrador\" title=\"Newfoundland and Labrador\">Newfoundland and Labrador</a></td>\n",
       " <td><a href=\"/wiki/Census_geographic_units_of_Canada#Census_agglomerations\" title=\"Census geographic units of Canada\">CA</a></td>\n",
       " <td align=\"right\" bgcolor=\"#F9F9F9\" rowspan=\"1\">14,171</td>\n",
       " <td align=\"right\" bgcolor=\"#F9F9F9\" rowspan=\"1\">13,725</td>\n",
       " <td align=\"right\" bgcolor=\"#F9F9F9\" rowspan=\"1\"><span class=\"sortkey\" style=\"display:none\">7000324954462659380♠</span><font style=\"color:green\">+3.25%</font></td>\n",
       " </tr>, <tr>\n",
       " <td align=\"center\">134</td>\n",
       " <td align=\"center\">141</td>\n",
       " <td><a href=\"/wiki/Canmore,_Alberta\" title=\"Canmore, Alberta\">Canmore</a></td>\n",
       " <td><a href=\"/wiki/Alberta\" title=\"Alberta\">Alberta</a></td>\n",
       " <td><a href=\"/wiki/Census_geographic_units_of_Canada#Census_agglomerations\" title=\"Census geographic units of Canada\">CA</a></td>\n",
       " <td align=\"right\" bgcolor=\"#F9F9F9\" rowspan=\"1\">13,992</td>\n",
       " <td align=\"right\" bgcolor=\"#F9F9F9\" rowspan=\"1\">12,288</td>\n",
       " <td align=\"right\" bgcolor=\"#F9F9F9\" rowspan=\"1\"><span class=\"sortkey\" style=\"display:none\">7001138671875000000♠</span><font style=\"color:green\">+13.87%</font></td>\n",
       " </tr>, <tr>\n",
       " <td align=\"center\">135</td>\n",
       " <td align=\"center\">140</td>\n",
       " <td><a href=\"/wiki/Strathmore,_Alberta\" title=\"Strathmore, Alberta\">Strathmore</a></td>\n",
       " <td><a href=\"/wiki/Alberta\" title=\"Alberta\">Alberta</a></td>\n",
       " <td><a href=\"/wiki/Census_geographic_units_of_Canada#Census_agglomerations\" title=\"Census geographic units of Canada\">CA</a></td>\n",
       " <td align=\"right\" bgcolor=\"#F9F9F9\" rowspan=\"1\">13,756</td>\n",
       " <td align=\"right\" bgcolor=\"#F9F9F9\" rowspan=\"1\">12,305</td>\n",
       " <td align=\"right\" bgcolor=\"#F9F9F9\" rowspan=\"1\"><span class=\"sortkey\" style=\"display:none\">7001117919544900450♠</span><font style=\"color:green\">+11.79%</font></td>\n",
       " </tr>, <tr>\n",
       " <td align=\"center\">136</td>\n",
       " <td align=\"center\">135</td>\n",
       " <td><a href=\"/wiki/Thompson,_Manitoba\" title=\"Thompson, Manitoba\">Thompson</a></td>\n",
       " <td><a href=\"/wiki/Manitoba\" title=\"Manitoba\">Manitoba</a></td>\n",
       " <td><a href=\"/wiki/Census_geographic_units_of_Canada#Census_agglomerations\" title=\"Census geographic units of Canada\">CA</a></td>\n",
       " <td align=\"right\" bgcolor=\"#F9F9F9\" rowspan=\"1\">13,678</td>\n",
       " <td align=\"right\" bgcolor=\"#F9F9F9\" rowspan=\"1\">12,829</td>\n",
       " <td align=\"right\" bgcolor=\"#F9F9F9\" rowspan=\"1\"><span class=\"sortkey\" style=\"display:none\">7000661781900381950♠</span><font style=\"color:green\">+6.62%</font></td>\n",
       " </tr>, <tr>\n",
       " <td align=\"center\">137</td>\n",
       " <td align=\"center\">139</td>\n",
       " <td><a href=\"/wiki/Cowansville\" title=\"Cowansville\">Cowansville</a></td>\n",
       " <td><a href=\"/wiki/Quebec\" title=\"Quebec\">Quebec</a></td>\n",
       " <td><a href=\"/wiki/Census_geographic_units_of_Canada#Census_agglomerations\" title=\"Census geographic units of Canada\">CA</a></td>\n",
       " <td align=\"right\" bgcolor=\"#F9F9F9\" rowspan=\"1\">13,656</td>\n",
       " <td align=\"right\" bgcolor=\"#F9F9F9\" rowspan=\"1\">12,489</td>\n",
       " <td align=\"right\" bgcolor=\"#F9F9F9\" rowspan=\"1\"><span class=\"sortkey\" style=\"display:none\">7000934422291616619♠</span><font style=\"color:green\">+9.34%</font></td>\n",
       " </tr>, <tr>\n",
       " <td align=\"center\">138</td>\n",
       " <td align=\"center\">133</td>\n",
       " <td><a href=\"/wiki/Estevan\" title=\"Estevan\">Estevan</a> (<a class=\"mw-redirect\" href=\"/wiki/Estevan_No._5\" title=\"Estevan No. 5\">Estevan No. 5</a>)</td>\n",
       " <td><a href=\"/wiki/Saskatchewan\" title=\"Saskatchewan\">Saskatchewan</a></td>\n",
       " <td><a href=\"/wiki/Census_geographic_units_of_Canada#Census_agglomerations\" title=\"Census geographic units of Canada\">CA</a></td>\n",
       " <td align=\"right\" bgcolor=\"#F9F9F9\" rowspan=\"1\">13,615</td>\n",
       " <td align=\"right\" bgcolor=\"#F9F9F9\" rowspan=\"1\">12,973</td>\n",
       " <td align=\"right\" bgcolor=\"#F9F9F9\" rowspan=\"1\"><span class=\"sortkey\" style=\"display:none\">7000494873969012560♠</span><font style=\"color:green\">+4.95%</font></td>\n",
       " </tr>, <tr>\n",
       " <td align=\"center\">139</td>\n",
       " <td align=\"center\">134</td>\n",
       " <td><a href=\"/wiki/High_River\" title=\"High River\">High River</a></td>\n",
       " <td><a href=\"/wiki/Alberta\" title=\"Alberta\">Alberta</a></td>\n",
       " <td><a href=\"/wiki/Census_geographic_units_of_Canada#Census_agglomerations\" title=\"Census geographic units of Canada\">CA</a></td>\n",
       " <td align=\"right\" bgcolor=\"#F9F9F9\" rowspan=\"1\">13,584</td>\n",
       " <td align=\"right\" bgcolor=\"#F9F9F9\" rowspan=\"1\">12,930</td>\n",
       " <td align=\"right\" bgcolor=\"#F9F9F9\" rowspan=\"1\"><span class=\"sortkey\" style=\"display:none\">7000505800464037120♠</span><font style=\"color:green\">+5.06%</font></td>\n",
       " </tr>, <tr>\n",
       " <td align=\"center\">140</td>\n",
       " <td align=\"center\">NR</td>\n",
       " <td><a href=\"/wiki/Sainte-Marie,_Quebec\" title=\"Sainte-Marie, Quebec\">Sainte-Marie</a></td>\n",
       " <td><a href=\"/wiki/Quebec\" title=\"Quebec\">Quebec</a></td>\n",
       " <td><a href=\"/wiki/Census_geographic_units_of_Canada#Census_agglomerations\" title=\"Census geographic units of Canada\">CA</a></td>\n",
       " <td align=\"right\" bgcolor=\"#F9F9F9\" rowspan=\"1\">13,565</td>\n",
       " <td align=\"right\" bgcolor=\"#F9F9F9\" rowspan=\"1\">12,889</td>\n",
       " <td align=\"right\" bgcolor=\"#F9F9F9\" rowspan=\"1\"><span class=\"sortkey\" style=\"display:none\">7000524478237256580♠</span><font style=\"color:green\">+5.24%</font></td>\n",
       " </tr>, <tr>\n",
       " <td align=\"center\">141</td>\n",
       " <td align=\"center\">132</td>\n",
       " <td><a href=\"/wiki/Portage_la_Prairie\" title=\"Portage la Prairie\">Portage la Prairie</a></td>\n",
       " <td><a href=\"/wiki/Manitoba\" title=\"Manitoba\">Manitoba</a></td>\n",
       " <td><a href=\"/wiki/Census_geographic_units_of_Canada#Census_agglomerations\" title=\"Census geographic units of Canada\">CA</a></td>\n",
       " <td align=\"right\" bgcolor=\"#F9F9F9\" rowspan=\"1\">13,304</td>\n",
       " <td align=\"right\" bgcolor=\"#F9F9F9\" rowspan=\"1\">12,996</td>\n",
       " <td align=\"right\" bgcolor=\"#F9F9F9\" rowspan=\"1\"><span class=\"sortkey\" style=\"display:none\">7000236995998768850♠</span><font style=\"color:green\">+2.37%</font></td>\n",
       " </tr>, <tr>\n",
       " <td align=\"center\">142</td>\n",
       " <td align=\"center\">NR</td>\n",
       " <td><a href=\"/wiki/Gander,_Newfoundland_and_Labrador\" title=\"Gander, Newfoundland and Labrador\">Gander</a></td>\n",
       " <td><a href=\"/wiki/Newfoundland_and_Labrador\" title=\"Newfoundland and Labrador\">Newfoundland and Labrador</a></td>\n",
       " <td><a href=\"/wiki/Census_geographic_units_of_Canada#Census_agglomerations\" title=\"Census geographic units of Canada\">CA</a></td>\n",
       " <td align=\"right\" bgcolor=\"#F9F9F9\" rowspan=\"1\">13,234</td>\n",
       " <td align=\"right\" bgcolor=\"#F9F9F9\" rowspan=\"1\">12,683</td>\n",
       " <td align=\"right\" bgcolor=\"#F9F9F9\" rowspan=\"1\"><span class=\"sortkey\" style=\"display:none\">7000434439801308839♠</span><font style=\"color:green\">+4.34%</font></td>\n",
       " </tr>, <tr>\n",
       " <td align=\"center\">143</td>\n",
       " <td align=\"center\">144</td>\n",
       " <td><a href=\"/wiki/Lacombe,_Alberta\" title=\"Lacombe, Alberta\">Lacombe</a></td>\n",
       " <td><a href=\"/wiki/Alberta\" title=\"Alberta\">Alberta</a></td>\n",
       " <td><a href=\"/wiki/Census_geographic_units_of_Canada#Census_agglomerations\" title=\"Census geographic units of Canada\">CA</a></td>\n",
       " <td align=\"right\" bgcolor=\"#F9F9F9\" rowspan=\"1\">13,057</td>\n",
       " <td align=\"right\" bgcolor=\"#F9F9F9\" rowspan=\"1\">11,707</td>\n",
       " <td align=\"right\" bgcolor=\"#F9F9F9\" rowspan=\"1\"><span class=\"sortkey\" style=\"display:none\">7001115315623131460♠</span><font style=\"color:green\">+11.53%</font></td>\n",
       " </tr>, <tr>\n",
       " <td align=\"center\">144</td>\n",
       " <td align=\"center\">137</td>\n",
       " <td><a href=\"/wiki/Lachute\" title=\"Lachute\">Lachute</a></td>\n",
       " <td><a href=\"/wiki/Quebec\" title=\"Quebec\">Quebec</a></td>\n",
       " <td><a href=\"/wiki/Census_geographic_units_of_Canada#Census_agglomerations\" title=\"Census geographic units of Canada\">CA</a></td>\n",
       " <td align=\"right\" bgcolor=\"#F9F9F9\" rowspan=\"1\">12,862</td>\n",
       " <td align=\"right\" bgcolor=\"#F9F9F9\" rowspan=\"1\">12,551</td>\n",
       " <td align=\"right\" bgcolor=\"#F9F9F9\" rowspan=\"1\"><span class=\"sortkey\" style=\"display:none\">7000247789020795150♠</span><font style=\"color:green\">+2.48%</font></td>\n",
       " </tr>, <tr>\n",
       " <td align=\"center\">145</td>\n",
       " <td align=\"center\">142</td>\n",
       " <td><a href=\"/wiki/Ingersoll,_Ontario\" title=\"Ingersoll, Ontario\">Ingersoll</a></td>\n",
       " <td><a href=\"/wiki/Ontario\" title=\"Ontario\">Ontario</a></td>\n",
       " <td><a href=\"/wiki/Census_geographic_units_of_Canada#Census_agglomerations\" title=\"Census geographic units of Canada\">CA</a></td>\n",
       " <td align=\"right\" bgcolor=\"#F9F9F9\" rowspan=\"1\">12,757</td>\n",
       " <td align=\"right\" bgcolor=\"#F9F9F9\" rowspan=\"1\">12,146</td>\n",
       " <td align=\"right\" bgcolor=\"#F9F9F9\" rowspan=\"1\"><span class=\"sortkey\" style=\"display:none\">7000503046270377080♠</span><font style=\"color:green\">+5.03%</font></td>\n",
       " </tr>, <tr>\n",
       " <td align=\"center\">146</td>\n",
       " <td align=\"center\">131</td>\n",
       " <td><a href=\"/wiki/Prince_Rupert,_British_Columbia\" title=\"Prince Rupert, British Columbia\">Prince Rupert</a></td>\n",
       " <td><a href=\"/wiki/British_Columbia\" title=\"British Columbia\">British Columbia</a></td>\n",
       " <td><a href=\"/wiki/Census_geographic_units_of_Canada#Census_agglomerations\" title=\"Census geographic units of Canada\">CA</a></td>\n",
       " <td align=\"right\" bgcolor=\"#F9F9F9\" rowspan=\"1\">12,687</td>\n",
       " <td align=\"right\" bgcolor=\"#F9F9F9\" rowspan=\"1\">13,052</td>\n",
       " <td align=\"right\" bgcolor=\"#F9F9F9\" rowspan=\"1\"><span class=\"sortkey\" style=\"display:none\">2999720349371743790♠</span><font style=\"color:red\">−2.80%</font></td>\n",
       " </tr>, <tr>\n",
       " <td align=\"center\">147</td>\n",
       " <td align=\"center\">138</td>\n",
       " <td><a href=\"/wiki/Wetaskiwin\" title=\"Wetaskiwin\">Wetaskiwin</a></td>\n",
       " <td><a href=\"/wiki/Alberta\" title=\"Alberta\">Alberta</a></td>\n",
       " <td><a href=\"/wiki/Census_geographic_units_of_Canada#Census_agglomerations\" title=\"Census geographic units of Canada\">CA</a></td>\n",
       " <td align=\"right\" bgcolor=\"#F9F9F9\" rowspan=\"1\">12,655</td>\n",
       " <td align=\"right\" bgcolor=\"#F9F9F9\" rowspan=\"1\">12,525</td>\n",
       " <td align=\"right\" bgcolor=\"#F9F9F9\" rowspan=\"1\"><span class=\"sortkey\" style=\"display:none\">7000103792415169660♠</span><font style=\"color:green\">+1.04%</font></td>\n",
       " </tr>, <tr>\n",
       " <td align=\"center\">148</td>\n",
       " <td align=\"center\">145</td>\n",
       " <td><a href=\"/wiki/Dawson_Creek\" title=\"Dawson Creek\">Dawson Creek</a></td>\n",
       " <td><a href=\"/wiki/British_Columbia\" title=\"British Columbia\">British Columbia</a></td>\n",
       " <td><a href=\"/wiki/Census_geographic_units_of_Canada#Census_agglomerations\" title=\"Census geographic units of Canada\">CA</a></td>\n",
       " <td align=\"right\" bgcolor=\"#F9F9F9\" rowspan=\"1\">12,178</td>\n",
       " <td align=\"right\" bgcolor=\"#F9F9F9\" rowspan=\"1\">11,583</td>\n",
       " <td align=\"right\" bgcolor=\"#F9F9F9\" rowspan=\"1\"><span class=\"sortkey\" style=\"display:none\">7000513683847017180♠</span><font style=\"color:green\">+5.14%</font></td>\n",
       " </tr>, <tr>\n",
       " <td align=\"center\">149</td>\n",
       " <td align=\"center\">143</td>\n",
       " <td><a href=\"/wiki/Hawkesbury,_Ontario\" title=\"Hawkesbury, Ontario\">Hawkesbury</a> (<a href=\"/wiki/Grenville,_Quebec\" title=\"Grenville, Quebec\">Grenville</a>)</td>\n",
       " <td><a href=\"/wiki/Ontario\" title=\"Ontario\">Ontario</a>/<a href=\"/wiki/Quebec\" title=\"Quebec\">Quebec</a></td>\n",
       " <td><a href=\"/wiki/Census_geographic_units_of_Canada#Census_agglomerations\" title=\"Census geographic units of Canada\">CA</a></td>\n",
       " <td align=\"right\" bgcolor=\"#F9F9F9\" rowspan=\"1\">11,974</td>\n",
       " <td align=\"right\" bgcolor=\"#F9F9F9\" rowspan=\"1\">12,128</td>\n",
       " <td align=\"right\" bgcolor=\"#F9F9F9\" rowspan=\"1\"><span class=\"sortkey\" style=\"display:none\">2999873021108179420♠</span><font style=\"color:red\">−1.27%</font></td>\n",
       " </tr>, <tr>\n",
       " <td align=\"center\">150</td>\n",
       " <td align=\"center\">147</td>\n",
       " <td><a href=\"/wiki/Bay_Roberts\" title=\"Bay Roberts\">Bay Roberts</a> (<a class=\"mw-redirect\" href=\"/wiki/Spaniard%27s_Bay,_Newfoundland_and_Labrador\" title=\"Spaniard's Bay, Newfoundland and Labrador\">Spaniard's Bay</a>, <a href=\"/wiki/Upper_Island_Cove\" title=\"Upper Island Cove\">Upper Island Cove</a>)</td>\n",
       " <td><a href=\"/wiki/Newfoundland_and_Labrador\" title=\"Newfoundland and Labrador\">Newfoundland and Labrador</a></td>\n",
       " <td><a href=\"/wiki/Census_geographic_units_of_Canada#Census_agglomerations\" title=\"Census geographic units of Canada\">CA</a></td>\n",
       " <td align=\"right\" bgcolor=\"#F9F9F9\" rowspan=\"1\">11,083</td>\n",
       " <td align=\"right\" bgcolor=\"#F9F9F9\" rowspan=\"1\">10,871</td>\n",
       " <td align=\"right\" bgcolor=\"#F9F9F9\" rowspan=\"1\"><span class=\"sortkey\" style=\"display:none\">7000195014258117930♠</span><font style=\"color:green\">+1.95%</font></td>\n",
       " </tr>, <tr>\n",
       " <td align=\"center\">151</td>\n",
       " <td align=\"center\">NR</td>\n",
       " <td><a class=\"mw-redirect\" href=\"/wiki/Weyburn,_Saskatchewan\" title=\"Weyburn, Saskatchewan\">Weyburn</a></td>\n",
       " <td><a href=\"/wiki/Saskatchewan\" title=\"Saskatchewan\">Saskatchewan</a></td>\n",
       " <td><a href=\"/wiki/Census_geographic_units_of_Canada#Census_agglomerations\" title=\"Census geographic units of Canada\">CA</a></td>\n",
       " <td align=\"right\" bgcolor=\"#F9F9F9\" rowspan=\"1\">10,870</td>\n",
       " <td align=\"right\" bgcolor=\"#F9F9F9\" rowspan=\"1\">10,484</td>\n",
       " <td align=\"right\" bgcolor=\"#F9F9F9\" rowspan=\"1\"><span class=\"sortkey\" style=\"display:none\">7000368180083937430♠</span><font style=\"color:green\">+3.68%</font></td>\n",
       " </tr>, <tr>\n",
       " <td align=\"center\">152</td>\n",
       " <td align=\"center\">146</td>\n",
       " <td><a href=\"/wiki/Elliot_Lake\" title=\"Elliot Lake\">Elliot Lake</a></td>\n",
       " <td><a href=\"/wiki/Ontario\" title=\"Ontario\">Ontario</a></td>\n",
       " <td><a href=\"/wiki/Census_geographic_units_of_Canada#Census_agglomerations\" title=\"Census geographic units of Canada\">CA</a></td>\n",
       " <td align=\"right\" bgcolor=\"#F9F9F9\" rowspan=\"1\">10,741</td>\n",
       " <td align=\"right\" bgcolor=\"#F9F9F9\" rowspan=\"1\">11,348</td>\n",
       " <td align=\"right\" bgcolor=\"#F9F9F9\" rowspan=\"1\"><span class=\"sortkey\" style=\"display:none\">2999465103983080720♠</span><font style=\"color:red\">−5.35%</font></td>\n",
       " </tr>]"
      ]
     },
     "execution_count": 10,
     "metadata": {},
     "output_type": "execute_result"
    }
   ],
   "source": [
    "rows"
   ]
  },
  {
   "cell_type": "markdown",
   "metadata": {},
   "source": [
    "Now, remember that the first row of probably every table you'll encounter on the web are column names. Therefore, we need to treat the first column differently. Namely, we want to collect these names and save them for later.\n",
    "\n",
    "So we will <code>find_all</code> instances of <code>th</code> in the first row. From there, we will get the text from the cell using <code>.text</code>, which is a signal to the HTML element that we want the text within the cell. After that, we'll use the string methods <code>strip</code> and <code>replace</code> to clean up the text a little so they are proper column names. Then we'll add them to a list called <code>columns</code>."
   ]
  },
  {
   "cell_type": "code",
   "execution_count": 11,
   "metadata": {
    "collapsed": false
   },
   "outputs": [],
   "source": [
    "columns = []\n",
    "header_cells = rows[0].find_all(\"th\") \n",
    "\n",
    "for cell in header_cells:\n",
    "    header = cell.text\n",
    "    header = header.strip()\n",
    "    header = header.replace(\"\\n\", \" \")\n",
    "    columns.append(header)"
   ]
  },
  {
   "cell_type": "code",
   "execution_count": 12,
   "metadata": {
    "collapsed": false
   },
   "outputs": [
    {
     "data": {
      "text/plain": [
       "['Rank (2016)',\n",
       " 'Rank (2011)',\n",
       " 'Geographic name',\n",
       " 'Province',\n",
       " 'Type',\n",
       " 'Population (2016)',\n",
       " 'Population (2011)',\n",
       " 'Change']"
      ]
     },
     "execution_count": 12,
     "metadata": {},
     "output_type": "execute_result"
    }
   ],
   "source": [
    "columns"
   ]
  },
  {
   "cell_type": "markdown",
   "metadata": {},
   "source": [
    "Now that we have the titles, we can collect the actual data from the file. We'll loop through all the rows, starting at the second one. Then we'll loop through all the cells in the row. To make this stuff all easy to find into <code>pandas</code>, we'll store the data from each row in a tuple. Remember tuples? "
   ]
  },
  {
   "cell_type": "markdown",
   "metadata": {},
   "source": [
    "Adding to a tuple is a little weird. You can only add a tuple to another tuple. So we'll begin by creating an empty tuple, then add to it by adding another tuple with one element in it."
   ]
  },
  {
   "cell_type": "markdown",
   "metadata": {},
   "source": [
    "One bit of weirdness with this is that within one of the columns (Change), there's several HTML elements. The one we want is the <code>font</code> element. That contains the percent change. There's some extra metadata that Wikipedia stores in the cell along with it which we need to ignore. So what our code will do is check if there's a font element for all cells with <code>is not None</code>. If it exists, we will use the text in it. If it doesn't exist, we'll use the text for the whole cell."
   ]
  },
  {
   "cell_type": "code",
   "execution_count": 13,
   "metadata": {
    "collapsed": true
   },
   "outputs": [],
   "source": [
    "data = []\n",
    "for row in rows[1:]:\n",
    "    cells = row.find_all(\"td\")\n",
    "    \n",
    "    ## create an empty tuple\n",
    "    dt = ()\n",
    "    for cell in cells:\n",
    "        ## dp stands for \"data point\"\n",
    "        font = cell.find(\"font\")\n",
    "        \n",
    "        if font is not None:\n",
    "            dp = font.text\n",
    "        else:\n",
    "            dp = cell.text\n",
    "\n",
    "        dp = dp.strip()\n",
    "        dp = dp.replace(\"\\n\", \" \")\n",
    "        \n",
    "        ## add to tuple\n",
    "        dt = dt + (dp,)\n",
    "    data.append(dt)"
   ]
  },
  {
   "cell_type": "markdown",
   "metadata": {},
   "source": [
    "Once we've done that, we can import this entire thing into <code>pandas</code> pretty easily."
   ]
  },
  {
   "cell_type": "code",
   "execution_count": 14,
   "metadata": {
    "collapsed": true
   },
   "outputs": [],
   "source": [
    "import pandas as pd\n",
    "import numpy as np\n",
    "\n",
    "df = pd.DataFrame(data, columns = columns)"
   ]
  },
  {
   "cell_type": "markdown",
   "metadata": {},
   "source": [
    "And voilà, we have a dataframe from the table on the web.\n",
    "\n",
    "We need to massage the data a bit to do things like calculate means and generate graphs. The types of the columns are all <code>object</code>. Which means we have to do some conversions."
   ]
  },
  {
   "cell_type": "code",
   "execution_count": 15,
   "metadata": {
    "collapsed": false
   },
   "outputs": [
    {
     "data": {
      "text/plain": [
       "Rank (2016)          object\n",
       "Rank (2011)          object\n",
       "Geographic name      object\n",
       "Province             object\n",
       "Type                 object\n",
       "Population (2016)    object\n",
       "Population (2011)    object\n",
       "Change               object\n",
       "dtype: object"
      ]
     },
     "execution_count": 15,
     "metadata": {},
     "output_type": "execute_result"
    }
   ],
   "source": [
    "df.dtypes"
   ]
  },
  {
   "cell_type": "markdown",
   "metadata": {},
   "source": [
    "Say we want to look at 2011 population. Using string functions for columns, we need to first remove the commas from population. Then we need to convert the number to an integer. Once that's done, we can take the mean."
   ]
  },
  {
   "cell_type": "code",
   "execution_count": 16,
   "metadata": {
    "collapsed": false
   },
   "outputs": [
    {
     "data": {
      "text/plain": [
       "181834.09210526315"
      ]
     },
     "execution_count": 16,
     "metadata": {},
     "output_type": "execute_result"
    }
   ],
   "source": [
    "df['Population (2011)'] = df['Population (2011)'].str.replace(',', '')\n",
    "df['Population (2011)'] = df['Population (2011)'].astype(np.int64)\n",
    "df['Population (2011)'].mean()"
   ]
  },
  {
   "cell_type": "markdown",
   "metadata": {},
   "source": [
    "With the population change, we want to convert this to a float, given that the number is a decimal number. We also need to remove the plus signs and percent signs. There's some weirdness here because the minus sign used on the web is not the minus sign we would give to Python to denote a negative number. The authors of the page probably copied the sign from Microsoft Word. Grrr..."
   ]
  },
  {
   "cell_type": "code",
   "execution_count": 17,
   "metadata": {
    "collapsed": false
   },
   "outputs": [
    {
     "data": {
      "text/plain": [
       "3.9717763157894725"
      ]
     },
     "execution_count": 17,
     "metadata": {},
     "output_type": "execute_result"
    }
   ],
   "source": [
    "df['Change'] = df['Change'].str.replace('+', '')\n",
    "df['Change'] = df['Change'].str.replace('%', '')\n",
    "df['Change'] = df['Change'].str.replace('−', '-') ## not all minus signs are created equal\n",
    "\n",
    "df['Change'] = df['Change'].astype(np.float64)\n",
    "df['Change'].mean()"
   ]
  },
  {
   "cell_type": "markdown",
   "metadata": {},
   "source": [
    "Lastly, we can import all our graphing functions and do our regular graphing operations. Let's calculate, say, the histogram of changes between 2006 and 2011."
   ]
  },
  {
   "cell_type": "code",
   "execution_count": 18,
   "metadata": {
    "collapsed": true
   },
   "outputs": [],
   "source": [
    "import matplotlib\n",
    "import matplotlib.pyplot as plt\n",
    "%matplotlib inline\n",
    "matplotlib.style.use('ggplot')"
   ]
  },
  {
   "cell_type": "code",
   "execution_count": 19,
   "metadata": {
    "collapsed": false
   },
   "outputs": [
    {
     "data": {
      "text/plain": [
       "<matplotlib.axes._subplots.AxesSubplot at 0x114807ef0>"
      ]
     },
     "execution_count": 19,
     "metadata": {},
     "output_type": "execute_result"
    },
    {
     "data": {
      "image/png": "[encoded data removed]",
      "text/plain": [
       "<matplotlib.figure.Figure at 0x10c567b70>"
      ]
     },
     "metadata": {},
     "output_type": "display_data"
    }
   ],
   "source": [
    "df['Change'].hist()"
   ]
  },
  {
   "cell_type": "markdown",
   "metadata": {},
   "source": [
    "It looks like most cities saw a population change between 0 and 10%. We saw from the data above that Toronto itself gained 9.2%. One city happened to gain over 40%, and a few cities lost from 0 to 5%."
   ]
  },
  {
   "cell_type": "markdown",
   "metadata": {},
   "source": [
    "## Exercise 1\n",
    "\n",
    "Head to the [Wikipedia page for Academy Award for Best Picture](\n",
    "https://en.wikipedia.org/wiki/Academy_Award_for_Best_Picture). Write the code to collect the data for the 2016 nominees."
   ]
  },
  {
   "cell_type": "markdown",
   "metadata": {},
   "source": [
    "### Screen scraping in unstructured format\n",
    "\n",
    "Much of the data we'll want to collect will be in a table format. But much of the time, what we want won't be in a table format. There's been a bit of turn away from using tables in web development in the past 10-15 years. Because of that, we will need to dig a little more into the guts of the HTML to extract what we want."
   ]
  },
  {
   "cell_type": "markdown",
   "metadata": {},
   "source": [
    "Let's say we're pricing out hockey helmets for ourselves or our relatives for the holidays (many roller derby players actually do wear hockey helmets). We could check out a popular hockey website to see what kinds of helmets are available."
   ]
  },
  {
   "cell_type": "markdown",
   "metadata": {},
   "source": [
    "We start off like we did with the table. But here, we try to find the unit which contains each unit we want to collect data on. In this case, it looks like each helmet is in a <code>&lt;li&gt;</code> (or list) element. For the record, the elements we're typically looking for are containers which can hold other elements, which include <code>li, p, div, span,</code> and any of the header elements -- <code>h1, h2, h3, h4, h5, h6</code>."
   ]
  },
  {
   "cell_type": "markdown",
   "metadata": {},
   "source": [
    "We also see that each of these elements has the class <code>item</code>. So it seems like a good guess that if we get all the list items, then we'll be on the right track."
   ]
  },
  {
   "cell_type": "markdown",
   "metadata": {},
   "source": [
    "![](img/hockey-site.png)"
   ]
  },
  {
   "cell_type": "code",
   "execution_count": null,
   "metadata": {
    "collapsed": true
   },
   "outputs": [],
   "source": [
    "url = \"http://www.hockeymonkey.com/equipment/helmets/helmets.html\"\n",
    "res = urllib.request.urlopen(url)\n",
    "\n",
    "html = res.read()\n",
    "\n",
    "bs = BeautifulSoup(html, \"html.parser\")"
   ]
  },
  {
   "cell_type": "code",
   "execution_count": null,
   "metadata": {
    "collapsed": true
   },
   "outputs": [],
   "source": [
    "items = bs.find_all(\"li\", \"item\")"
   ]
  },
  {
   "cell_type": "code",
   "execution_count": null,
   "metadata": {
    "collapsed": true
   },
   "outputs": [],
   "source": [
    "items[0]"
   ]
  },
  {
   "cell_type": "markdown",
   "metadata": {},
   "source": [
    "From there, we have to find how to get the helmet name and the price. Upon further inspect, it looks like the element which contains name is an <code>h2</code> element with class <code>product-name</code>. Price is conained in a <code>span</code> element with class <code>price</code>."
   ]
  },
  {
   "cell_type": "markdown",
   "metadata": {},
   "source": [
    "![](img/hockey-name.png)"
   ]
  },
  {
   "cell_type": "markdown",
   "metadata": {},
   "source": [
    "![](img/hockey-price.png)"
   ]
  },
  {
   "cell_type": "markdown",
   "metadata": {},
   "source": [
    "From there, we can loop through all the items in the list and store the name and price in their own variables."
   ]
  },
  {
   "cell_type": "code",
   "execution_count": null,
   "metadata": {
    "collapsed": false
   },
   "outputs": [],
   "source": [
    "data = []\n",
    "for item in items:\n",
    "    name = item.find(\"h2\", \"product-name\")\n",
    "    name = name.text\n",
    "    \n",
    "    price = item.find(\"span\", \"price\")\n",
    "    price = price.text\n",
    "    \n",
    "    dt = (name, price)\n",
    "    data.append(dt)"
   ]
  },
  {
   "cell_type": "code",
   "execution_count": null,
   "metadata": {
    "collapsed": true
   },
   "outputs": [],
   "source": [
    "data"
   ]
  },
  {
   "cell_type": "markdown",
   "metadata": {},
   "source": [
    "And from there, we can store all these data into a DataFrame again."
   ]
  },
  {
   "cell_type": "code",
   "execution_count": null,
   "metadata": {
    "collapsed": true
   },
   "outputs": [],
   "source": [
    "df = pd.DataFrame(data, columns = ['Name', 'Price'])"
   ]
  },
  {
   "cell_type": "code",
   "execution_count": null,
   "metadata": {
    "collapsed": true
   },
   "outputs": [],
   "source": [
    "df"
   ]
  },
  {
   "cell_type": "markdown",
   "metadata": {},
   "source": [
    "Like the transformation above, we can convert the price to a float and take the mean, once we remove the dollar sign from the text."
   ]
  },
  {
   "cell_type": "code",
   "execution_count": null,
   "metadata": {
    "collapsed": false
   },
   "outputs": [],
   "source": [
    "df['Price'] = df['Price'].str.replace('$', '')\n",
    "\n",
    "df['Price'] = df['Price'].astype(np.float64)\n",
    "df['Price'].mean()"
   ]
  },
  {
   "cell_type": "markdown",
   "metadata": {},
   "source": [
    "## Exercise 2\n",
    "\n",
    "Look at this [name website](http://www.behindthename.com/names/usage/english). Collect the name, the gender, and the linguistic origin."
   ]
  },
  {
   "cell_type": "markdown",
   "metadata": {},
   "source": [
    "## APIs\n",
    "\n",
    "APIs, or Application Programming Interfaces, are a method of accessing data from a business or government organization. Many, if not most, social media companies have some kind of API which are made available to third-party developers and researchers. Some of these work better for researchers than others."
   ]
  },
  {
   "cell_type": "markdown",
   "metadata": {},
   "source": [
    "You can think of an API request as what happens when you access a website with a web browser. You type in the URL for a page or click a link, and then the internet gives you want you want. Something similar happens when you make an API request. You are accessing a particular URL which will return a set of requested infomation."
   ]
  },
  {
   "cell_type": "markdown",
   "metadata": {},
   "source": [
    "In the examples which are working with in this lab, the information is returned in JSON, or **J**ava**S**cript **O**bject **N**otation. This is usually pronounced like \"JAY-SAAN\". JSON is structured a lot like Python objects, with dictionaries and lists being the main objects. For instance, a tweet is sort of structured like this:"
   ]
  },
  {
   "cell_type": "code",
   "execution_count": null,
   "metadata": {
    "collapsed": true
   },
   "outputs": [],
   "source": [
    "tweet_json = \"\"\"\n",
    "{\n",
    "    \"id\": 12345,\n",
    "    \"created_at\": \"2016-11-01\",\n",
    "    \"text\": \"I am really into #python programming. #winning\",\n",
    "    \"user\": {\n",
    "        \"id\": 2345,\n",
    "        \"screen_name\": \"alexhanna\",\n",
    "        \"name\": \"Alex Hanna\"\n",
    "    },\n",
    "    \"entities\": {\n",
    "        \"hashtags\": [\n",
    "            {\n",
    "                \"name\": \"#python\"\n",
    "            },\n",
    "            {\n",
    "                \"name\": \"#winning\"\n",
    "            }\n",
    "        ]\n",
    "    }\n",
    "}\"\"\""
   ]
  },
  {
   "cell_type": "markdown",
   "metadata": {},
   "source": [
    "To parse it into something Python can use, we use the <code>json</code> module. Once there, we can access parts of it like a dictionary."
   ]
  },
  {
   "cell_type": "code",
   "execution_count": null,
   "metadata": {
    "collapsed": false
   },
   "outputs": [],
   "source": [
    "import json\n",
    "tweet_obj = json.loads(tweet_json)\n",
    "\n",
    "print(tweet_obj['user']['name'])\n",
    "print(tweet_obj['text'])\n",
    "for ht in tweet_obj['entities']['hashtags']:\n",
    "    print(ht['name'])"
   ]
  },
  {
   "cell_type": "markdown",
   "metadata": {},
   "source": [
    "## Accessing the Twitter API through <code>tweepy</code>\n",
    "\n",
    "First we need install a package called <code>tweepy</code>. Instead of handling all the URL requests by hand, <code>tweepy</code> does this all behind the scenes. We install a new package through Jupyter Notebook like so. This has the effect of running this same command on the Windows, Mac, or UNIX command-line."
   ]
  },
  {
   "cell_type": "code",
   "execution_count": null,
   "metadata": {
    "collapsed": false
   },
   "outputs": [],
   "source": [
    "!pip install tweepy"
   ]
  },
  {
   "cell_type": "markdown",
   "metadata": {},
   "source": [
    "After that, we need to load the newly installed <code>tweepy</code> module into our library path. The path is where Python looks for new libraries. Because we don't have permission to permanently install new packages, we can tell Python to look in the packages folder where we told it to put the new module."
   ]
  },
  {
   "cell_type": "code",
   "execution_count": null,
   "metadata": {
    "collapsed": true
   },
   "outputs": [],
   "source": [
    "import os\n",
    "import sys\n",
    "#path = '/packages/Lib/site-packages'\n",
    "## If you are running this on Mac, comment out the previous line \n",
    "## and uncomment the line below\n",
    "path = '/packages/lib/python3.5/site-packages'\n",
    "sys.path.insert(0, os.getcwd() + path)"
   ]
  },
  {
   "cell_type": "code",
   "execution_count": null,
   "metadata": {
    "collapsed": false
   },
   "outputs": [],
   "source": [
    "from slistener import SListener\n",
    "import json\n",
    "import time\n",
    "import tweepy\n",
    "import sys"
   ]
  },
  {
   "cell_type": "code",
   "execution_count": null,
   "metadata": {
    "collapsed": true
   },
   "outputs": [],
   "source": [
    "## authentication\n",
    "access_token = \"\"\n",
    "access_token_secret = \"\"\n",
    "consumer_key = \"\"\n",
    "consumer_secret = \"\"\n",
    "\n",
    "auth = tweepy.OAuthHandler(consumer_key, consumer_secret)\n",
    "auth.set_access_token(access_token, access_token_secret)\n",
    "api  = tweepy.API(auth)"
   ]
  },
  {
   "cell_type": "markdown",
   "metadata": {},
   "source": [
    "After that, we can start tracking things from Twitter's stream. This is only a small sample of possible things we can get from Twitter. To get full access, you need to pay a company to get historical data."
   ]
  },
  {
   "cell_type": "markdown",
   "metadata": {},
   "source": [
    "For now, we'll pick some fairly obvious keywords which will be on Twitter which related to US politics. There's other [things we can track](https://dev.twitter.com/streaming/reference/post/statuses/filter) here, but for now we'll just track keywords."
   ]
  },
  {
   "cell_type": "code",
   "execution_count": null,
   "metadata": {
    "collapsed": true
   },
   "outputs": [],
   "source": [
    "## set up words to track\n",
    "track = ['trump', 'bannon']\n",
    "\n",
    "listen = SListener(api, 'politics')\n",
    "stream = tweepy.Stream(auth, listen)\n",
    "\n",
    "print(\"Streaming started...\")\n",
    "\n",
    "stream.filter(track = track)"
   ]
  },
  {
   "cell_type": "markdown",
   "metadata": {},
   "source": [
    "Finally, we want to convert this all to a DataFrame. The problem is that with the nested structure of a tweet, it's kind of difficult to put it in a rectangular format. For that, we'll do a little bit of \"flattening\" of the data. This entails going through all the files, then going through all the tweets in those files and putting them into a column at the top level of the nested structure. In particular, let's get the screen names of users, the text and users of retweets, and the text and users of quoted tweets."
   ]
  },
  {
   "cell_type": "code",
   "execution_count": null,
   "metadata": {
    "collapsed": true
   },
   "outputs": [],
   "source": [
    "import glob\n",
    "import pandas as pd\n",
    "import numpy as np"
   ]
  },
  {
   "cell_type": "code",
   "execution_count": null,
   "metadata": {
    "collapsed": true
   },
   "outputs": [],
   "source": [
    "tweets = []\n",
    "files  = list(glob.iglob('politics*.json'))\n",
    "for f in files:\n",
    "    fh = open(f, 'r', encoding = 'utf-8')\n",
    "    tweets_json = fh.read().split(\"\\n\")\n",
    "\n",
    "    ## remove empty lines\n",
    "    tweets_json = list(filter(len, tweets_json))\n",
    "\n",
    "    ## parse each tweet\n",
    "    for tweet in tweets_json:\n",
    "        try:\n",
    "            tweet_obj = json.loads(tweet)\n",
    "\n",
    "            ## flatten the file to include quoted status and retweeted status info\n",
    "            if 'quoted_status' in tweet_obj:\n",
    "                tweet_obj['quoted_status-text'] = tweet_obj['quoted_status']['text'] \n",
    "                tweet_obj['quoted_status-user-screen_name'] = tweet_obj['quoted_status']['user']['screen_name']\n",
    "\n",
    "            if 'retweeted_status' in tweet_obj:\n",
    "                tweet_obj['retweeted_status-user-screen_name'] = tweet_obj['retweeted_status']['user']['screen_name']\n",
    "                tweet_obj['retweeted_status-text'] = tweet_obj['retweeted_status']['text']\n",
    "\n",
    "            tweet_obj['user-screen_name'] = tweet_obj['user']['screen_name']\n",
    "\n",
    "            tweets.append(tweet_obj)\n",
    "        except:\n",
    "            pass"
   ]
  },
  {
   "cell_type": "code",
   "execution_count": null,
   "metadata": {
    "collapsed": true
   },
   "outputs": [],
   "source": [
    "## create pandas DataFrame for further analysis\n",
    "df_tweet = pd.DataFrame(tweets)"
   ]
  }
 ],
 "metadata": {
  "anaconda-cloud": {},
  "kernelspec": {
   "display_name": "Python [Root]",
   "language": "python",
   "name": "Python [Root]"
  },
  "language_info": {
   "codemirror_mode": {
    "name": "ipython",
    "version": 3
   },
   "file_extension": ".py",
   "mimetype": "text/x-python",
   "name": "python",
   "nbconvert_exporter": "python",
   "pygments_lexer": "ipython3",
   "version": "3.5.2"
  }
 },
 "nbformat": 4,
 "nbformat_minor": 0
}
